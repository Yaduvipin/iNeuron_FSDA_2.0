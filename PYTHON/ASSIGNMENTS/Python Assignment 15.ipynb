{
 "cells": [
  {
   "cell_type": "markdown",
   "id": "46e95225",
   "metadata": {},
   "source": [
    "# Number 1 -\n",
    "\n",
    "Question -\n",
    "How many seconds are in an hour? Use the interactive interpreter as a calculator and multiply the number of seconds in a minute (60) by the number of minutes in an hour (also 60).\n",
    "\n",
    "Answer -"
   ]
  },
  {
   "cell_type": "code",
   "execution_count": 1,
   "id": "060393af",
   "metadata": {},
   "outputs": [
    {
     "data": {
      "text/plain": [
       "3600"
      ]
     },
     "execution_count": 1,
     "metadata": {},
     "output_type": "execute_result"
    }
   ],
   "source": [
    "60*60"
   ]
  },
  {
   "cell_type": "markdown",
   "id": "f3469b25",
   "metadata": {},
   "source": [
    "# Number 2 -\n",
    "\n",
    "Question -\n",
    "Assign the result from the previous task (seconds in an hour) to a variable called seconds_per_hour.\n",
    "\n",
    "Answer -\n"
   ]
  },
  {
   "cell_type": "code",
   "execution_count": 3,
   "id": "7cf31724",
   "metadata": {},
   "outputs": [],
   "source": [
    "seconds_per_hour = 3600\n"
   ]
  },
  {
   "cell_type": "markdown",
   "id": "10ef3744",
   "metadata": {},
   "source": [
    "# Number 3 -\n",
    "\n",
    "Question -\n",
    "How many seconds do you think there are in a day? Make use of the variables seconds per hour and minutes per hour.\n",
    "\n",
    "Answer -\n"
   ]
  },
  {
   "cell_type": "code",
   "execution_count": 4,
   "id": "d1e27bb3",
   "metadata": {},
   "outputs": [
    {
     "data": {
      "text/plain": [
       "86400"
      ]
     },
     "execution_count": 4,
     "metadata": {},
     "output_type": "execute_result"
    }
   ],
   "source": [
    "seconds_per_hour*24\n",
    "86400"
   ]
  },
  {
   "cell_type": "markdown",
   "id": "ae35911a",
   "metadata": {},
   "source": [
    "# Number 4 -\n",
    "\n",
    "Question -\n",
    "Calculate seconds per day again, but this time save the result in a variable called seconds_per_day\n",
    "\n",
    "Answer -"
   ]
  },
  {
   "cell_type": "code",
   "execution_count": 5,
   "id": "9591d1df",
   "metadata": {},
   "outputs": [
    {
     "data": {
      "text/plain": [
       "86400"
      ]
     },
     "execution_count": 5,
     "metadata": {},
     "output_type": "execute_result"
    }
   ],
   "source": [
    "seconds_per_day = seconds_per_hour*24\n",
    "seconds_per_day"
   ]
  },
  {
   "cell_type": "markdown",
   "id": "b3b11cf1",
   "metadata": {},
   "source": [
    "# Number 5 -\n",
    "\n",
    "Question -\n",
    "Divide seconds_per_day by seconds_per_hour. Use floating-point (/) division.\n",
    "\n",
    "Answer -"
   ]
  },
  {
   "cell_type": "code",
   "execution_count": 6,
   "id": "0a341455",
   "metadata": {},
   "outputs": [
    {
     "data": {
      "text/plain": [
       "24.0"
      ]
     },
     "execution_count": 6,
     "metadata": {},
     "output_type": "execute_result"
    }
   ],
   "source": [
    "seconds_per_day / seconds_per_hour"
   ]
  },
  {
   "cell_type": "markdown",
   "id": "c7156040",
   "metadata": {},
   "source": [
    "# Number 6 -\n",
    "\n",
    "Question -\n",
    "Divide seconds_per_day by seconds_per_hour, using integer (//) division. Did this number agree with the floating-point value from the previous question, aside from the final .0?\n",
    "\n",
    "Answer -"
   ]
  },
  {
   "cell_type": "code",
   "execution_count": 7,
   "id": "0be92967",
   "metadata": {},
   "outputs": [
    {
     "data": {
      "text/plain": [
       "24"
      ]
     },
     "execution_count": 7,
     "metadata": {},
     "output_type": "execute_result"
    }
   ],
   "source": [
    "seconds_per_day // seconds_per_hour"
   ]
  },
  {
   "cell_type": "markdown",
   "id": "d0d7511f",
   "metadata": {},
   "source": [
    "# Number 7 -\n",
    "\n",
    "Question -\n",
    "Write a generator, genPrimes, that returns the sequence of prime numbers on successive calls to its next() method: 2, 3, 5, 7, 11, ...\n",
    "\n",
    "Answer -"
   ]
  },
  {
   "cell_type": "code",
   "execution_count": 9,
   "id": "fb1b12b0",
   "metadata": {},
   "outputs": [
    {
     "name": "stdout",
     "output_type": "stream",
     "text": [
      "2\n",
      "3\n",
      "5\n",
      "7\n",
      "11\n"
     ]
    }
   ],
   "source": [
    "def genPrimes():\n",
    "    \"\"\"Generator that yields prime numbers on successive calls to next() method.\"\"\"\n",
    "    primes = []     # list of primes found so far\n",
    "    n = 2           # first potential prime number\n",
    "    while True:\n",
    "        if all(n % p != 0 for p in primes):  # check if n is prime\n",
    "            primes.append(n)\n",
    "            yield n     # yield the prime number\n",
    "        n += 1\n",
    "prime_gen = genPrimes()\n",
    "print(next(prime_gen))  # output: 2\n",
    "print(next(prime_gen))  # output: 3\n",
    "print(next(prime_gen))  # output: 5\n",
    "print(next(prime_gen))  # output: 7\n",
    "print(next(prime_gen))  # output: 11\n",
    "# ... and so on\n"
   ]
  },
  {
   "cell_type": "code",
   "execution_count": null,
   "id": "2b3da3c0",
   "metadata": {},
   "outputs": [],
   "source": []
  }
 ],
 "metadata": {
  "kernelspec": {
   "display_name": "Python 3 (ipykernel)",
   "language": "python",
   "name": "python3"
  },
  "language_info": {
   "codemirror_mode": {
    "name": "ipython",
    "version": 3
   },
   "file_extension": ".py",
   "mimetype": "text/x-python",
   "name": "python",
   "nbconvert_exporter": "python",
   "pygments_lexer": "ipython3",
   "version": "3.9.13"
  }
 },
 "nbformat": 4,
 "nbformat_minor": 5
}
