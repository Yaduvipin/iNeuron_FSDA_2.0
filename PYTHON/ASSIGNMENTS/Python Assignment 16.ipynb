{
 "cells": [
  {
   "cell_type": "markdown",
   "id": "353b71a7",
   "metadata": {},
   "source": [
    "## Q1.\n",
    "Create a list called years_list, starting with the year of your birth, and each year thereafter until\n",
    "the year of your fifth birthday. For example, if you were born in 1980. the list would be years_list =\n",
    "[1980, 1981, 1982, 1983, 1984, 1985]."
   ]
  },
  {
   "cell_type": "code",
   "execution_count": 1,
   "id": "bba3ec91",
   "metadata": {},
   "outputs": [],
   "source": [
    "# Answer:- years_list:\n",
    "\n",
    "\n",
    "years_list = [1995, 1996, 1997, 1998, 1999, 2000]\n",
    "\n"
   ]
  },
  {
   "cell_type": "code",
   "execution_count": 3,
   "id": "a74c2893",
   "metadata": {},
   "outputs": [
    {
     "name": "stdout",
     "output_type": "stream",
     "text": [
      "<class 'list'>\n"
     ]
    }
   ],
   "source": [
    "print(type(years_list))"
   ]
  },
  {
   "cell_type": "markdown",
   "id": "40cd6dcf",
   "metadata": {},
   "source": [
    "# Q2.\n",
    "In which year in years_list was your third birthday? Remember, you were 0 years of age for your\n",
    "first year."
   ]
  },
  {
   "cell_type": "code",
   "execution_count": 6,
   "id": "5f0d54ea",
   "metadata": {},
   "outputs": [
    {
     "data": {
      "text/plain": [
       "1997"
      ]
     },
     "execution_count": 6,
     "metadata": {},
     "output_type": "execute_result"
    }
   ],
   "source": [
    "years_list[2]"
   ]
  },
  {
   "cell_type": "markdown",
   "id": "71d526d3",
   "metadata": {},
   "source": [
    "# Q3.\n",
    "In the years list, which year were you the oldest?"
   ]
  },
  {
   "cell_type": "code",
   "execution_count": 8,
   "id": "486a8b2d",
   "metadata": {},
   "outputs": [
    {
     "data": {
      "text/plain": [
       "2000"
      ]
     },
     "execution_count": 8,
     "metadata": {},
     "output_type": "execute_result"
    }
   ],
   "source": [
    "# Answer:-\n",
    "\n",
    "years_list[-1]"
   ]
  },
  {
   "cell_type": "markdown",
   "id": "530402e1",
   "metadata": {},
   "source": [
    "## Q4.\n",
    "Make a list called things with these three strings as elements: &quot;mozzarella&quot;, &quot;cinderella&quot;,\n",
    "&quot;salmonella&quot;."
   ]
  },
  {
   "cell_type": "code",
   "execution_count": 10,
   "id": "13ee57da",
   "metadata": {},
   "outputs": [],
   "source": [
    "# Answer:-\n",
    "things=['mozzarella','cinderella','salmonella']"
   ]
  },
  {
   "cell_type": "markdown",
   "id": "66d901cf",
   "metadata": {},
   "source": [
    "# Q5.\n",
    "Capitalize the element in things that refers to a person and then print the list. Did it change the\n",
    "element in the list?"
   ]
  },
  {
   "cell_type": "code",
   "execution_count": 11,
   "id": "4f85444e",
   "metadata": {},
   "outputs": [
    {
     "name": "stdout",
     "output_type": "stream",
     "text": [
      "['mozzarella', 'Cinderella', 'salmonella']\n"
     ]
    }
   ],
   "source": [
    "# Answer:-\n",
    "things[1]=things[1].capitalize()\n",
    "print(things)\n",
    "    "
   ]
  },
  {
   "cell_type": "markdown",
   "id": "7804256c",
   "metadata": {},
   "source": [
    "As you can see, the capitalize() method capitalized the first letter of the string 'cinderella' and replaced it with 'Cinderella' in the things list.\n",
    "\n",
    "So, to answer the question, yes, the element in the things list has been changed.\n",
    "\n",
    "\n",
    "\n"
   ]
  },
  {
   "cell_type": "markdown",
   "id": "14e632bf",
   "metadata": {},
   "source": [
    "## Q6. \n",
    "Make a surprise list with the elements \"Groucho\", \"Chico\" and \"Harpo\""
   ]
  },
  {
   "cell_type": "markdown",
   "id": "75679530",
   "metadata": {},
   "source": [
    "# "
   ]
  },
  {
   "cell_type": "code",
   "execution_count": 14,
   "id": "4fcb6e84",
   "metadata": {},
   "outputs": [],
   "source": [
    "# Answer :-\n",
    "surprise = ['Groucho','Chico','Harpo']"
   ]
  },
  {
   "cell_type": "code",
   "execution_count": 15,
   "id": "778c84b2",
   "metadata": {},
   "outputs": [
    {
     "name": "stdout",
     "output_type": "stream",
     "text": [
      "['Groucho', 'Chico', 'Harpo']\n"
     ]
    }
   ],
   "source": [
    "print(surprise)"
   ]
  },
  {
   "cell_type": "markdown",
   "id": "bbd1644a",
   "metadata": {},
   "source": [
    "## Q7.\n",
    "Lowercase the last element of the surprise list, reverse it, and then capitalize it."
   ]
  },
  {
   "cell_type": "code",
   "execution_count": 16,
   "id": "b2ad715b",
   "metadata": {},
   "outputs": [],
   "source": [
    "# Answer:-\n",
    "last_element = surprise[-1].lower()[::-1].capitalize()\n"
   ]
  },
  {
   "cell_type": "code",
   "execution_count": 18,
   "id": "c37d274a",
   "metadata": {},
   "outputs": [
    {
     "name": "stdout",
     "output_type": "stream",
     "text": [
      "Oprah\n"
     ]
    }
   ],
   "source": [
    "print(last_element)"
   ]
  },
  {
   "cell_type": "markdown",
   "id": "b4b226c0",
   "metadata": {},
   "source": [
    "# Q8.\n",
    "Make an English-to-French dictionary called e2f and print it. Here are your starter words: dog is\n",
    "chien, cat is chat, and walrus is morse."
   ]
  },
  {
   "cell_type": "code",
   "execution_count": 19,
   "id": "044f4b9f",
   "metadata": {},
   "outputs": [
    {
     "name": "stdout",
     "output_type": "stream",
     "text": [
      "{'dog': 'chien', 'cat': 'chat', 'walrus': 'morse'}\n",
      "{'dog': 'chien', 'cat': 'chat', 'walrus': 'morse'}\n"
     ]
    }
   ],
   "source": [
    "# Answer:-\n",
    "e2f = {'dog': 'chien', 'cat': 'chat', 'walrus': 'morse'}\n",
    "print(e2f)\n",
    "print(e2f)"
   ]
  },
  {
   "cell_type": "markdown",
   "id": "c3e6a5e3",
   "metadata": {},
   "source": [
    "## Q9.\n",
    "Write the French word for walrus in your three-word dictionary e2f."
   ]
  },
  {
   "cell_type": "code",
   "execution_count": 22,
   "id": "35e1128d",
   "metadata": {},
   "outputs": [
    {
     "name": "stdout",
     "output_type": "stream",
     "text": [
      "morse\n"
     ]
    }
   ],
   "source": [
    "# Answer\n",
    "french_word_for_walrus = e2f['walrus']\n",
    "print(french_word_for_walrus)"
   ]
  },
  {
   "cell_type": "markdown",
   "id": "53a203a3",
   "metadata": {},
   "source": [
    "So the French word for walrus in the e2f dictionary is 'morse'."
   ]
  },
  {
   "cell_type": "markdown",
   "id": "2d165932",
   "metadata": {},
   "source": [
    "# Q10.\n",
    "Make a French-to-English dictionary called f2e from e2f. Use the items method."
   ]
  },
  {
   "cell_type": "code",
   "execution_count": 23,
   "id": "c2c31b89",
   "metadata": {},
   "outputs": [
    {
     "name": "stdout",
     "output_type": "stream",
     "text": [
      "{'chien': 'dog', 'chat': 'cat', 'morse': 'walrus'}\n"
     ]
    }
   ],
   "source": [
    "#Answer:-\n",
    "f2e = {value:key for key , value in e2f.items()}\n",
    "print(f2e)"
   ]
  },
  {
   "cell_type": "markdown",
   "id": "3067696e",
   "metadata": {},
   "source": [
    "As you can see, the f2e dictionary has been created with the values and keys\n",
    "of the e2f dictionary as its keys and values, respectively. The items() method\n",
    "is used to iterate over the key-value pairs of e2f. Then, for each key-value pair, \n",
    "a new key-value pair is added to f2e with the value as the key and the key as the value.\n",
    "\n",
    "\n",
    "\n"
   ]
  },
  {
   "cell_type": "markdown",
   "id": "4cfc998f",
   "metadata": {},
   "source": [
    "# Q11.\n",
    "Print the English version of the French word chien using f2e."
   ]
  },
  {
   "cell_type": "code",
   "execution_count": 24,
   "id": "a21c0fd7",
   "metadata": {},
   "outputs": [
    {
     "name": "stdout",
     "output_type": "stream",
     "text": [
      "dog\n"
     ]
    }
   ],
   "source": [
    "#Answer:-\n",
    "print(f2e['chien'])"
   ]
  },
  {
   "cell_type": "markdown",
   "id": "0da68dd5",
   "metadata": {},
   "source": [
    "# Q12. \n",
    "Make and print a set of English words from the keys in e2f."
   ]
  },
  {
   "cell_type": "code",
   "execution_count": 25,
   "id": "706f8533",
   "metadata": {},
   "outputs": [
    {
     "name": "stdout",
     "output_type": "stream",
     "text": [
      "{'computer', 'house', 'dog', 'cat', 'book'}\n"
     ]
    }
   ],
   "source": [
    "#Answer:-\n",
    "e2f = {\n",
    "    'dog': 'chien',\n",
    "    'cat': 'chat',\n",
    "    'house': 'maison',\n",
    "    'book': 'livre',\n",
    "    'computer': 'ordinateur'\n",
    "}\n",
    "\n",
    "english_words = set(e2f.keys())\n",
    "print(english_words)"
   ]
  },
  {
   "cell_type": "markdown",
   "id": "2641aa3d",
   "metadata": {},
   "source": [
    "# Q13.\n",
    "Make a multilevel dictionary called life. Use these strings for the topmost keys: &#39;animals&#39;, &#39;plants&#39;,\n",
    "and 'other'. Make the 'animals' key refer to another dictionary with the keys 'cats','octopi', and\n",
    "'emus'. Make the 'cats' key refer to a list of strings with the values 'Henri', 'Grumpy', and 'Lucy'.\n",
    "Make all the other keys refer to empty dictionaries."
   ]
  },
  {
   "cell_type": "code",
   "execution_count": 26,
   "id": "66079721",
   "metadata": {},
   "outputs": [],
   "source": [
    "#Answer:-\n",
    "\n",
    "life = {\n",
    "    'animals': {\n",
    "        'cats': ['Henri', 'Grumpy', 'Lucy'],\n",
    "        'octopi': {},\n",
    "        'emus': {}\n",
    "    },\n",
    "    'plants': {},\n",
    "    'other': {}\n",
    "}\n",
    "\n"
   ]
  },
  {
   "cell_type": "code",
   "execution_count": 27,
   "id": "3f391754",
   "metadata": {},
   "outputs": [
    {
     "name": "stdout",
     "output_type": "stream",
     "text": [
      "{'animals': {'cats': ['Henri', 'Grumpy', 'Lucy'], 'octopi': {}, 'emus': {}}, 'plants': {}, 'other': {}}\n"
     ]
    }
   ],
   "source": [
    "print(life)"
   ]
  },
  {
   "cell_type": "code",
   "execution_count": 28,
   "id": "0c3fe96b",
   "metadata": {},
   "outputs": [
    {
     "data": {
      "text/plain": [
       "dict"
      ]
     },
     "execution_count": 28,
     "metadata": {},
     "output_type": "execute_result"
    }
   ],
   "source": [
    "type(life)"
   ]
  },
  {
   "cell_type": "markdown",
   "id": "a2f23cb4",
   "metadata": {},
   "source": [
    "# In this dictionary:\n",
    "\n",
    "The 'animals' key refers to another dictionary that has three keys, 'cats', 'octopi', and 'emus'.\n",
    "The 'cats' key refers to a list of three strings: 'Henri', 'Grumpy', and 'Lucy'.\n",
    "The 'plants' and 'other' keys both refer to empty dictionaries.\n"
   ]
  },
  {
   "cell_type": "markdown",
   "id": "38bb9d34",
   "metadata": {},
   "source": [
    "# Q14. \n",
    "Print the top-level keys of life."
   ]
  },
  {
   "cell_type": "code",
   "execution_count": 29,
   "id": "a3e48f35",
   "metadata": {},
   "outputs": [
    {
     "name": "stdout",
     "output_type": "stream",
     "text": [
      "dict_keys(['animals', 'plants', 'other'])\n"
     ]
    }
   ],
   "source": [
    "#Answer:-\n",
    "print(life.keys())\n"
   ]
  },
  {
   "cell_type": "code",
   "execution_count": 30,
   "id": "8ef1df6b",
   "metadata": {},
   "outputs": [
    {
     "name": "stdout",
     "output_type": "stream",
     "text": [
      "['animals', 'plants', 'other']\n"
     ]
    }
   ],
   "source": [
    "print(list(life.keys()))\n"
   ]
  },
  {
   "cell_type": "markdown",
   "id": "fd0641a3",
   "metadata": {},
   "source": [
    "# Q15.\n",
    "Print the keys for life['animals']."
   ]
  },
  {
   "cell_type": "code",
   "execution_count": 31,
   "id": "a517789d",
   "metadata": {},
   "outputs": [
    {
     "name": "stdout",
     "output_type": "stream",
     "text": [
      "dict_keys(['cats', 'octopi', 'emus'])\n"
     ]
    }
   ],
   "source": [
    "#Answer\n",
    "print(life['animals'].keys())\n"
   ]
  },
  {
   "cell_type": "code",
   "execution_count": 32,
   "id": "b94a5600",
   "metadata": {},
   "outputs": [
    {
     "name": "stdout",
     "output_type": "stream",
     "text": [
      "['cats', 'octopi', 'emus']\n"
     ]
    }
   ],
   "source": [
    "print(list(life['animals'].keys()))\n"
   ]
  },
  {
   "cell_type": "markdown",
   "id": "332d245d",
   "metadata": {},
   "source": [
    "# Q16.\n",
    "Print the values for life['animals']['cats']"
   ]
  },
  {
   "cell_type": "code",
   "execution_count": null,
   "id": "76105092",
   "metadata": {},
   "outputs": [],
   "source": [
    "print(life['animals']['cats'])\n"
   ]
  }
 ],
 "metadata": {
  "kernelspec": {
   "display_name": "Python 3 (ipykernel)",
   "language": "python",
   "name": "python3"
  },
  "language_info": {
   "codemirror_mode": {
    "name": "ipython",
    "version": 3
   },
   "file_extension": ".py",
   "mimetype": "text/x-python",
   "name": "python",
   "nbconvert_exporter": "python",
   "pygments_lexer": "ipython3",
   "version": "3.9.13"
  }
 },
 "nbformat": 4,
 "nbformat_minor": 5
}
