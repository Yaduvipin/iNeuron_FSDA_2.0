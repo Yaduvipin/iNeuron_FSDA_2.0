{
 "cells": [
  {
   "cell_type": "markdown",
   "id": "304d455f",
   "metadata": {},
   "source": [
    "# Q1\n",
    "    1. Assign the value 7 to the variable guess_me. Then, write the conditional tests (if, else, and elif) to\n",
    "print the string 'too low' if guess_me is less than 7,'too high' if greater than 7, and 'just right' if equal\n",
    "to 7."
   ]
  },
  {
   "cell_type": "code",
   "execution_count": 2,
   "id": "667f2b48",
   "metadata": {},
   "outputs": [
    {
     "name": "stdout",
     "output_type": "stream",
     "text": [
      "just right\n"
     ]
    }
   ],
   "source": [
    "# Answer:-\n",
    "guess_me = 7\n",
    "\n",
    "if guess_me < 7:\n",
    "    print('too low')\n",
    "elif guess_me > 7:\n",
    "    print('too high')\n",
    "else:\n",
    "    print('just right')\n"
   ]
  },
  {
   "cell_type": "markdown",
   "id": "7aa5e199",
   "metadata": {},
   "source": [
    "# Q2\n",
    "2. Assign the value 7 to the variable guess_me and the value 1 to the variable start. Write a while\n",
    "loop that compares start with guess_me. Print too low if start is less than guess me. If start equals\n",
    "guess_me, print &#39;found it!&#39; and exit the loop. If start is greater than guess_me, print 'oops' and exit\n",
    "the loop. Increment start at the end of the loop."
   ]
  },
  {
   "cell_type": "code",
   "execution_count": 3,
   "id": "ee432cf9",
   "metadata": {},
   "outputs": [
    {
     "name": "stdout",
     "output_type": "stream",
     "text": [
      "too low\n",
      "too low\n",
      "too low\n",
      "too low\n",
      "too low\n",
      "too low\n",
      "found it!\n"
     ]
    }
   ],
   "source": [
    "#Answer:-\n",
    "guess_me = 7\n",
    "start = 1\n",
    "\n",
    "while True:\n",
    "    if start < guess_me:\n",
    "        print('too low')\n",
    "    elif start == guess_me:\n",
    "        print('found it!')\n",
    "        break\n",
    "    else:\n",
    "        print('oops')\n",
    "        break\n",
    "    start += 1\n"
   ]
  },
  {
   "cell_type": "markdown",
   "id": "057481c4",
   "metadata": {},
   "source": [
    "In this code, the while loop continues until it is explicitly broken using the break statement. \n",
    "Within the loop, the code first checks if the value of start is less than guess_me. If it is, \n",
    "then the string 'too low' is printed. If it is not less than guess_me, then the code moves on \n",
    "to the next condition which checks if the value of start is equal to guess_me. If it is, then \n",
    "the string 'found it!' is printed and the loop is broken using break. If the value of start is\n",
    "not equal to guess_me, then the code moves on to the last \n",
    "condition which prints 'oops' and breaks the loop. Finally, start is incremented at the end of \n",
    "each loop iteration."
   ]
  },
  {
   "cell_type": "markdown",
   "id": "ad09965a",
   "metadata": {},
   "source": [
    "# Q3\n",
    "  3.Print the following values of the list [3, 2, 1, 0] using a for loop."
   ]
  },
  {
   "cell_type": "code",
   "execution_count": 5,
   "id": "5dbb3072",
   "metadata": {},
   "outputs": [
    {
     "name": "stdout",
     "output_type": "stream",
     "text": [
      "3\n",
      "2\n",
      "1\n",
      "0\n"
     ]
    }
   ],
   "source": [
    "#Answer:-\n",
    "my_list = [3, 2, 1, 0]\n",
    "for value in my_list:\n",
    "    print(value)\n",
    "    \n",
    "    "
   ]
  },
  {
   "cell_type": "markdown",
   "id": "2a8abe5d",
   "metadata": {},
   "source": [
    "In this code, the for loop iterates over each value in the list my_list, assigns the current value to the variable value,\n",
    "and then prints it using the print() function. This loop will print the values 3, 2, 1, and 0 on separate lines."
   ]
  },
  {
   "cell_type": "markdown",
   "id": "1043c1af",
   "metadata": {},
   "source": [
    "# Q4\n",
    "4. Use a list comprehension to make a list of the even numbers in range(10)"
   ]
  },
  {
   "cell_type": "code",
   "execution_count": 6,
   "id": "ecbf4ad7",
   "metadata": {},
   "outputs": [
    {
     "name": "stdout",
     "output_type": "stream",
     "text": [
      "[0, 2, 4, 6, 8]\n"
     ]
    }
   ],
   "source": [
    "#Answer:-\n",
    "even_numbers = [num for num in range(10) if num % 2 == 0]\n",
    "print(even_numbers)\n"
   ]
  },
  {
   "cell_type": "markdown",
   "id": "a4451df6",
   "metadata": {},
   "source": [
    "In this code, the list comprehension creates a new list called even_numbers that contains only\n",
    "the even numbers from range(10). The comprehension iterates over each value in range(10) and \n",
    "checks if the current value is even using the % operator. If it is even, then the value is\n",
    "included in the new list. Finally, the even_numbers list is printed using the print() function. \n",
    "This code will output [0, 2, 4, 6, 8] on a single line."
   ]
  },
  {
   "cell_type": "markdown",
   "id": "5b50c68d",
   "metadata": {},
   "source": [
    "# Q5\n",
    "5. Use a dictionary comprehension to create the dictionary squares. Use range(10) to return the\n",
    "keys, and use the square of each key as its value."
   ]
  },
  {
   "cell_type": "code",
   "execution_count": 7,
   "id": "1e8b3c92",
   "metadata": {},
   "outputs": [
    {
     "name": "stdout",
     "output_type": "stream",
     "text": [
      "{0: 0, 1: 1, 2: 4, 3: 9, 4: 16, 5: 25, 6: 36, 7: 49, 8: 64, 9: 81}\n"
     ]
    }
   ],
   "source": [
    "#Answer:-\n",
    "squares = {num: num**2 for num in range(10)}\n",
    "print(squares)\n"
   ]
  },
  {
   "cell_type": "markdown",
   "id": "9646904d",
   "metadata": {},
   "source": [
    "In this code, the dictionary comprehension creates a new dictionary called squares with keys taken from range(10) \n",
    "and values that are the square of each key. The comprehension iterates over each value in range(10) and creates a \n",
    "key-value pair where the key is the current value and the value is the square of the current value. Finally, the \n",
    "squares dictionary is printed using the print() function. This code will output {0: 0, 1: 1, 2: 4, 3: 9, 4: 16, 5: 25, 6: 36, 7: 49, 8: 64, 9: 81}\n",
    "on a single line.\n",
    "\n",
    "\n",
    "\n"
   ]
  },
  {
   "cell_type": "markdown",
   "id": "5921adf6",
   "metadata": {},
   "source": [
    "# Q6\n",
    "6. Construct the set odd from the odd numbers in the range using a set comprehension (10)."
   ]
  },
  {
   "cell_type": "code",
   "execution_count": 8,
   "id": "f113325a",
   "metadata": {},
   "outputs": [
    {
     "name": "stdout",
     "output_type": "stream",
     "text": [
      "{1, 3, 5, 7, 9}\n"
     ]
    }
   ],
   "source": [
    "#Answer:-\n",
    "odd = {num for num in range(10) if num % 2 != 0}\n",
    "print(odd)\n"
   ]
  },
  {
   "cell_type": "markdown",
   "id": "92a804c6",
   "metadata": {},
   "source": [
    "In this code, the set comprehension creates a new set called odd that contains only the odd numbers from range(10).\n",
    "The comprehension iterates over each value in range(10) and checks if the current value is odd using the % operator.\n",
    "If it is odd, then the value is included in the new set. Finally, the odd set is printed using the print() function.\n",
    "This code will output {1, 3, 5, 7, 9} on a single line."
   ]
  },
  {
   "cell_type": "markdown",
   "id": "5fa10250",
   "metadata": {},
   "source": [
    "# Q7\n",
    "7. Use a generator comprehension to return the string 'Got' and a number for the numbers in\n",
    "range(10). Iterate through this by using a for loop."
   ]
  },
  {
   "cell_type": "code",
   "execution_count": 9,
   "id": "28f37509",
   "metadata": {},
   "outputs": [
    {
     "name": "stdout",
     "output_type": "stream",
     "text": [
      "Got 0\n",
      "Got 1\n",
      "Got 2\n",
      "Got 3\n",
      "Got 4\n",
      "Got 5\n",
      "Got 6\n",
      "Got 7\n",
      "Got 8\n",
      "Got 9\n"
     ]
    }
   ],
   "source": [
    "#Answer:-\n",
    "my_generator = ('Got ' + str(num) for num in range(10))\n",
    "\n",
    "for value in my_generator:\n",
    "    print(value)\n"
   ]
  },
  {
   "cell_type": "markdown",
   "id": "61ee03d5",
   "metadata": {},
   "source": [
    "# Q8\n",
    "8. Define a function called good that returns the list ['Harry', 'Ron', 'Hermione']."
   ]
  },
  {
   "cell_type": "code",
   "execution_count": 10,
   "id": "a77f1e39",
   "metadata": {},
   "outputs": [],
   "source": [
    "#Answer:-\n",
    "def good():\n",
    "    return ['Harry', 'Ron', 'Hermione']\n"
   ]
  },
  {
   "cell_type": "code",
   "execution_count": 11,
   "id": "9139d865",
   "metadata": {},
   "outputs": [
    {
     "data": {
      "text/plain": [
       "['Harry', 'Ron', 'Hermione']"
      ]
     },
     "execution_count": 11,
     "metadata": {},
     "output_type": "execute_result"
    }
   ],
   "source": [
    "good()"
   ]
  },
  {
   "cell_type": "markdown",
   "id": "89e003b6",
   "metadata": {},
   "source": [
    "In this code, the def keyword is used to define a function called good.\n",
    "The function has no parameters and simply returns the list ['Harry', 'Ron', 'Hermione'] using the return keyword.\n",
    "This function can be called later in the code by simply using the function name followed by parentheses, like this: good().\n",
    "When called, the function will return the list ['Harry', 'Ron', 'Hermione']."
   ]
  },
  {
   "cell_type": "markdown",
   "id": "9985c022",
   "metadata": {},
   "source": [
    "# Q9\n",
    "9. Define a generator function called get_odds that returns the odd numbers from range(10). Use a\n",
    "for loop to find and print the third value returned."
   ]
  },
  {
   "cell_type": "code",
   "execution_count": null,
   "id": "a3cea101",
   "metadata": {},
   "outputs": [],
   "source": [
    "#Answer:-\n",
    "def get_odds():\n",
    "    for num in range(10):\n",
    "        if num % 2 != 0:\n",
    "            yield num\n"
   ]
  },
  {
   "cell_type": "markdown",
   "id": "4b533408",
   "metadata": {},
   "source": [
    "In this code, the def keyword is used to define a generator function called get_odds. \n",
    "The function uses a for loop to iterate over each value in range(10). If the current\n",
    "value is odd (determined using the % operator), then the function yields the current value.\n",
    "This means that the function returns the value to the caller, but retains its current state\n",
    "so that it can continue from where it left off the next time it is called."
   ]
  },
  {
   "cell_type": "code",
   "execution_count": 12,
   "id": "2a974bb3",
   "metadata": {},
   "outputs": [
    {
     "name": "stdout",
     "output_type": "stream",
     "text": [
      "The third odd number is: 5\n"
     ]
    }
   ],
   "source": [
    "# define the generator function\n",
    "def get_odds():\n",
    "    for num in range(10):\n",
    "        if num % 2 != 0:\n",
    "            yield num\n",
    "\n",
    "# use a for loop to find and print the third value returned\n",
    "count = 0\n",
    "for odd_num in get_odds():\n",
    "    count += 1\n",
    "    if count == 3:\n",
    "        print(\"The third odd number is:\", odd_num)\n",
    "        break\n"
   ]
  },
  {
   "cell_type": "markdown",
   "id": "1636f2f1",
   "metadata": {},
   "source": [
    "In this code, the count variable is used to keep track of the number of odd numbers returned by get_odds so far.\n",
    "The for loop iterates through each odd number returned by get_odds, increments the count variable, and checks \n",
    "if count is equal to 3. If it is, then the loop prints a message that includes the third odd number and breaks\n",
    "out of the loop."
   ]
  },
  {
   "cell_type": "markdown",
   "id": "9bd773c6",
   "metadata": {},
   "source": [
    "# Q10\n",
    "10. Define an exception called OopsException. Raise this exception to see what happens. Then write\n",
    "the code to catch this exception and print 'Caught an oops'."
   ]
  },
  {
   "cell_type": "markdown",
   "id": "ff17de06",
   "metadata": {},
   "source": [
    "#Answer:-\n",
    "\n",
    "\n",
    "## define the exception\n",
    "class OopsException(Exception):\n",
    "    pass\n",
    "\n",
    "## raise the exception\n",
    "raise OopsException\n",
    "\n",
    "## catch the exception\n",
    "try:\n",
    "    raise OopsException\n",
    "except OopsException:\n",
    "    print(\"Caught an oops\")\n"
   ]
  },
  {
   "cell_type": "markdown",
   "id": "c76e5790",
   "metadata": {},
   "source": [
    " In this code, the class keyword is used to define a new exception called OopsException. \n",
    "This exception simply inherits from the base Exception class, so it doesn't have any new behavior of its own.\n",
    "\n",
    "The raise keyword is used to raise an instance of the OopsException exception. This will cause the program \n",
    "to stop running and print an error message, unless the exception is caught and handled.\n",
    "\n",
    "The try and except keywords are used to catch the OopsException exception that was raised. \n",
    "Inside the try block, we raise the exception again. If the exception is raised successfully, the program will\n",
    "jump to the except block, where the message \"Caught an oops\" will be printed. This code will output the following message:\n",
    "\n",
    "### Caught an oops\n",
    "\n",
    "This is because we've caught the OopsException exception and printed a message indicating that we've done so."
   ]
  },
  {
   "cell_type": "markdown",
   "id": "dfea13c8",
   "metadata": {},
   "source": [
    "# Q11\n",
    "11. Use zip() to make a dictionary called movies that pairs these lists: titles = ['Creature of Habit',\n",
    "'Crewel Fate'] and plots = ['A nun turns into a monster','A haunted yarn shop']."
   ]
  },
  {
   "cell_type": "code",
   "execution_count": 14,
   "id": "6f32d313",
   "metadata": {},
   "outputs": [
    {
     "name": "stdout",
     "output_type": "stream",
     "text": [
      "{'Creature of Habit': 'A nun turns into a monster', 'Crewel Fate': 'A haunted yarn shop'}\n"
     ]
    }
   ],
   "source": [
    "#Answer:-\n",
    "titles = ['Creature of Habit', 'Crewel Fate']\n",
    "plots = ['A nun turns into a monster', 'A haunted yarn shop']\n",
    "\n",
    "# create a dictionary using zip()\n",
    "movies = dict(zip(titles, plots))\n",
    "\n",
    "# print the resulting dictionary\n",
    "print(movies)\n"
   ]
  },
  {
   "cell_type": "markdown",
   "id": "8d4f36f8",
   "metadata": {},
   "source": [
    "In this code, we first define two lists: titles and plots. \n",
    "We then use zip() to combine these lists into a single iterable\n",
    "object that contains pairs of corresponding elements from each list. \n",
    "The dict() function is used to convert this iterable object into a dictionary, \n",
    "with the titles list elements serving as the dictionary keys and the plots list\n",
    "elements serving as the dictionary values."
   ]
  },
  {
   "cell_type": "code",
   "execution_count": null,
   "id": "cb51e59c",
   "metadata": {},
   "outputs": [],
   "source": []
  },
  {
   "cell_type": "code",
   "execution_count": null,
   "id": "4a92fca6",
   "metadata": {},
   "outputs": [],
   "source": []
  },
  {
   "cell_type": "code",
   "execution_count": null,
   "id": "fb9ee0e0",
   "metadata": {},
   "outputs": [],
   "source": []
  }
 ],
 "metadata": {
  "kernelspec": {
   "display_name": "Python 3 (ipykernel)",
   "language": "python",
   "name": "python3"
  },
  "language_info": {
   "codemirror_mode": {
    "name": "ipython",
    "version": 3
   },
   "file_extension": ".py",
   "mimetype": "text/x-python",
   "name": "python",
   "nbconvert_exporter": "python",
   "pygments_lexer": "ipython3",
   "version": "3.9.13"
  }
 },
 "nbformat": 4,
 "nbformat_minor": 5
}
