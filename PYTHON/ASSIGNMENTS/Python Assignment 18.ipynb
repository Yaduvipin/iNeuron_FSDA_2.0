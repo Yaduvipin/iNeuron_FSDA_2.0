{
 "cells": [
  {
   "cell_type": "markdown",
   "id": "378138a5",
   "metadata": {},
   "source": [
    "# Q1\n",
    "1. Create a zoo.py file first. Define the hours() function, which prints the string 'Open 9-5 daily'.\n",
    "Then, use the interactive interpreter to import the zoo module and call its hours() function."
   ]
  },
  {
   "cell_type": "code",
   "execution_count": 1,
   "id": "2fefe5bb",
   "metadata": {},
   "outputs": [],
   "source": [
    "#Answer:-\n",
    "#Here's the code for the zoo.py module:\n",
    "\n",
    "\n",
    "def hours():\n",
    "    print('Open 9-5 daily')\n",
    "\n"
   ]
  },
  {
   "cell_type": "markdown",
   "id": "0c975014",
   "metadata": {},
   "source": [
    "    \n",
    "To use the interactive interpreter to import the module and call its hours() function, follow these steps:\n",
    "\n",
    "Open a command prompt or terminal window.\n",
    "Navigate to the directory where the zoo.py file is located.\n",
    "Start the Python interpreter by typing python or python3 (depending on your setup).\n",
    "Import the zoo module by typing import zoo.\n",
    "Call the hours() function by typing zoo.hours().\n",
    "Here's an example of what the interactive session might look like:\n",
    "\n",
    "\n",
    "$ cd /path/to/zoo/module\n",
    "$ python\n",
    "\n",
    "\n",
    ">>> import zoo\n",
    "\n",
    "\n",
    "\n",
    ">>> zoo.hours()\n",
    "\n",
    "\n",
    "Open 9-5 daily\n",
    "\n",
    "\n",
    "\n",
    "Note that in the example above, I assumed that the zoo.py file is located in the /path/to/zoo/module directory.\n",
    "You should replace this path with the actual path to the zoo.py file on your computer.\n",
    "\n",
    "\n"
   ]
  },
  {
   "cell_type": "markdown",
   "id": "e30eff3b",
   "metadata": {},
   "source": [
    "# Q2.\n",
    "2. In the interactive interpreter, import the zoo module as menagerie and call its hours() function."
   ]
  },
  {
   "cell_type": "markdown",
   "id": "087c7684",
   "metadata": {},
   "source": [
    "Answer:-\n",
    " here's how you can import the zoo module as menagerie and call its hours()\n",
    "function in the Python interactive interpreter:\n",
    "\n",
    "\n",
    "$ python\n",
    "\n",
    ">>>\n",
    ">>> import zoo as menagerie\n",
    ">>> menagerie.hours()\n",
    "Open 9-5 daily\n",
    "\n",
    "In the example above, we imported the zoo module and gave it the alias menagerie.\n",
    "Then we called the hours() function using the alias menagerie. This is useful if you\n",
    "want to give a shorter or more descriptive name to a module in your code.\n",
    "\n",
    "\n",
    "\n",
    "\n"
   ]
  },
  {
   "cell_type": "markdown",
   "id": "d58d96c8",
   "metadata": {},
   "source": [
    "# Q3\n",
    "3. Using the interpreter, explicitly import and call the hours() function from zoo."
   ]
  },
  {
   "cell_type": "markdown",
   "id": "cfb12051",
   "metadata": {},
   "source": [
    "Here is how you can explicitly import and call the hours() function \n",
    "from the zoo module using the Python interpreter:\n",
    "\n",
    ">>>\n",
    ">>> from zoo import hours\n",
    "\n",
    "\n",
    "\n",
    "\n",
    ">>> hours()\n",
    "\n",
    "\n",
    "\n",
    "Open 9-5 daily\n",
    "\n",
    "\n",
    "In the example above, we used the from ... import ... statement \n",
    "to explicitly import the hours() function from the zoo module.\n",
    "Then we called the hours() function directly without using the \n",
    "module name prefix, since we explicitly imported it."
   ]
  },
  {
   "cell_type": "markdown",
   "id": "85ea2fab",
   "metadata": {},
   "source": [
    "# Q4\n",
    "4. Import the hours() function as info and call it."
   ]
  },
  {
   "cell_type": "markdown",
   "id": "164fb676",
   "metadata": {},
   "source": [
    "Answer:-\n",
    "    \n",
    " Here's how you can import the hours() function from the zoo module as info and call it using the Python interpreter:\n",
    "\n",
    "\n",
    "\n",
    ">>>\n",
    ">>> from zoo import hours as info\n",
    "\n",
    "\n",
    ">>> info()\n",
    "\n",
    "\n",
    "Open 9-5 daily\n",
    "\n",
    "\n",
    "\n",
    "In the example above, we used the from ... import ... as ... statement to import the hours() function from the zoo module and give it the alias info. Then we called the info() function using the alias info. This is useful if you want to give a shorter or more descriptive name to a function in your code.\n",
    "\n",
    "\n",
    "\n",
    "\n"
   ]
  },
  {
   "cell_type": "markdown",
   "id": "63200816",
   "metadata": {},
   "source": [
    "# Q5\n",
    "5. Create a plain dictionary with the key-value pairs'a': 1,'b': 2, and 'c': 3, and print it out."
   ]
  },
  {
   "cell_type": "code",
   "execution_count": 4,
   "id": "e99fb2a1",
   "metadata": {},
   "outputs": [
    {
     "name": "stdout",
     "output_type": "stream",
     "text": [
      "{'a': 1, 'b': 2, 'c': 3}\n"
     ]
    }
   ],
   "source": [
    "#Answer:-\n",
    "my_dict = {'a': 1, 'b': 2, 'c': 3}\n",
    "print(my_dict)\n"
   ]
  },
  {
   "cell_type": "markdown",
   "id": "1b339593",
   "metadata": {},
   "source": [
    "In this example, we create a dictionary called my_dict with the keys a, b, and c, \n",
    "and their corresponding values 1, 2, and 3. \n",
    "Then, we use the print() function to output the entire dictionary to the console."
   ]
  },
  {
   "cell_type": "markdown",
   "id": "6145dbe2",
   "metadata": {},
   "source": [
    "# Q6\n",
    "6.Make an OrderedDict called fancy from the same pairs listed in 5 and print it. Did it print in the\n",
    "same order as plain?"
   ]
  },
  {
   "cell_type": "code",
   "execution_count": 5,
   "id": "680eb5b3",
   "metadata": {},
   "outputs": [
    {
     "name": "stdout",
     "output_type": "stream",
     "text": [
      "OrderedDict([('a', 1), ('b', 2), ('c', 3)])\n"
     ]
    }
   ],
   "source": [
    "#Answer:-\n",
    "from collections import OrderedDict\n",
    "\n",
    "fancy = OrderedDict([('a', 1), ('b', 2), ('c', 3)])\n",
    "print(fancy)\n"
   ]
  },
  {
   "cell_type": "markdown",
   "id": "2399f243",
   "metadata": {},
   "source": [
    "In this example, we create an OrderedDict called fancy with the same key-value pairs as in question 5.\n",
    "We use the OrderedDict() constructor to create the dictionary, passing a list of tuples containing the\n",
    "key-value pairs in the desired order.\n",
    "\n",
    "As an OrderedDict, the order of the key-value pairs in the dictionary is preserved, so the output will\n",
    "be the same as the input order.\n",
    "\n",
    "So yes, the output printed by the print() function will be the same order as the input order."
   ]
  },
  {
   "cell_type": "markdown",
   "id": "9902bcb1",
   "metadata": {},
   "source": [
    "# Q7\n",
    "7. Make a default dictionary called dict_of_lists and pass it the argument list. Make the list\n",
    "dict_of_lists['a'] and append the value 'something for a'; to it in one assignment. Print\n",
    "dict_of_lists['a']."
   ]
  },
  {
   "cell_type": "code",
   "execution_count": 6,
   "id": "6c9a3e56",
   "metadata": {},
   "outputs": [
    {
     "name": "stdout",
     "output_type": "stream",
     "text": [
      "['something for a']\n"
     ]
    }
   ],
   "source": [
    "#Answer:-\n",
    "from collections import defaultdict\n",
    "\n",
    "dict_of_lists = defaultdict(list)\n",
    "dict_of_lists['a'].append('something for a')\n",
    "print(dict_of_lists['a'])\n"
   ]
  },
  {
   "cell_type": "markdown",
   "id": "bce9119a",
   "metadata": {},
   "source": [
    "In this example, we create a defaultdict called dict_of_lists that stores lists as values.\n",
    "We pass the list constructor as the argument to create a default empty list for any new keys that are accessed.\n",
    "\n",
    "Then, we add the string 'something for a' to the list at key 'a' using the append() method,\n",
    "all in one assignment. Finally, we print the list at key 'a' using the print() function. \n",
    "Since we added the string 'something for a' to the list at key 'a', the output will be ['something for a']."
   ]
  },
  {
   "cell_type": "code",
   "execution_count": null,
   "id": "17c14528",
   "metadata": {},
   "outputs": [],
   "source": []
  }
 ],
 "metadata": {
  "kernelspec": {
   "display_name": "Python 3 (ipykernel)",
   "language": "python",
   "name": "python3"
  },
  "language_info": {
   "codemirror_mode": {
    "name": "ipython",
    "version": 3
   },
   "file_extension": ".py",
   "mimetype": "text/x-python",
   "name": "python",
   "nbconvert_exporter": "python",
   "pygments_lexer": "ipython3",
   "version": "3.9.13"
  }
 },
 "nbformat": 4,
 "nbformat_minor": 5
}
