{
 "cells": [
  {
   "cell_type": "markdown",
   "id": "3dbaa5c8",
   "metadata": {},
   "source": [
    "# Q1\n",
    "1. Make a class called Thing with no contents and print it. Then, create an object called example\n",
    "from this class and also print it. Are the printed values the same or different?\n"
   ]
  },
  {
   "cell_type": "code",
   "execution_count": 1,
   "id": "c12e5036",
   "metadata": {},
   "outputs": [
    {
     "name": "stdout",
     "output_type": "stream",
     "text": [
      "<__main__.Thing object at 0x0000024FEFD2B2B0>\n",
      "<__main__.Thing object at 0x0000024FEFD2BA60>\n"
     ]
    }
   ],
   "source": [
    "#Answer:-\n",
    "class Thing:\n",
    "    pass\n",
    "\n",
    "print(Thing())\n",
    "example = Thing()\n",
    "print(example)\n"
   ]
  },
  {
   "cell_type": "markdown",
   "id": "08dcc85e",
   "metadata": {},
   "source": [
    "The first print statement creates an instance of the Thing class and immediately prints it.\n",
    "Since the Thing class has no contents, the printed value is just the memory address where the\n",
    "object is stored in the computer's memory.\n",
    "\n",
    "The second print statement creates a new object called example from the Thing class and then prints it. \n",
    "The printed value will also be the memory address where the object is stored in memory.\n",
    "\n",
    "Therefore, the printed values for both Thing() and example will be different, even though they were both \n",
    "created from the same Thing class."
   ]
  },
  {
   "cell_type": "markdown",
   "id": "9235f334",
   "metadata": {},
   "source": [
    "# Q2\n",
    "2. Create a new class called Thing2 and add the value 'abc' to the letters class attribute. Letters\n",
    "should be printed."
   ]
  },
  {
   "cell_type": "code",
   "execution_count": 2,
   "id": "fdf8c873",
   "metadata": {},
   "outputs": [
    {
     "name": "stdout",
     "output_type": "stream",
     "text": [
      "abc\n"
     ]
    }
   ],
   "source": [
    "#Answer\n",
    "class Thing2:\n",
    "    letters = 'abc'\n",
    "\n",
    "print(Thing2.letters)\n"
   ]
  },
  {
   "cell_type": "markdown",
   "id": "6ce926a0",
   "metadata": {},
   "source": [
    "The Thing2 class has a class attribute called letters, which is set to the string value of 'abc'.\n",
    "To access this class attribute, we use the dot notation with the class name, followed by the\n",
    "attribute name (Thing2.letters). When we print this attribute, the output will be 'abc'."
   ]
  },
  {
   "cell_type": "markdown",
   "id": "0e478b68",
   "metadata": {},
   "source": [
    "# Q3\n",
    "3. Make yet another class called, of course, Thing3. This time, assign the value 'xyz' to an instance\n",
    "(object) attribute called letters. Print letters. Do you need to make an object from the class to do\n",
    "this?\n"
   ]
  },
  {
   "cell_type": "code",
   "execution_count": 3,
   "id": "bfb95a7d",
   "metadata": {},
   "outputs": [
    {
     "name": "stdout",
     "output_type": "stream",
     "text": [
      "xyz\n"
     ]
    }
   ],
   "source": [
    "#Answer:-\n",
    "class Thing3:\n",
    "    def __init__(self):\n",
    "        self.letters = 'xyz'\n",
    "\n",
    "example = Thing3()\n",
    "print(example.letters)\n"
   ]
  },
  {
   "cell_type": "markdown",
   "id": "e9bedc18",
   "metadata": {},
   "source": [
    "The Thing3 class has an instance attribute called letters, which is set to the string value of 'xyz'.\n",
    "We assign this attribute inside the class's constructor method, __init__, using the self parameter,\n",
    "which refers to the instance of the class being created.\n",
    "\n",
    "To print the value of the letters attribute, we need to create an object (also known as an instance)\n",
    "of the Thing3 class. We create an object called example using the class constructor Thing3(). Then,\n",
    "we use dot notation to access the letters attribute of the example object, and print it."
   ]
  },
  {
   "cell_type": "markdown",
   "id": "27afe5da",
   "metadata": {},
   "source": [
    "# Q4\n",
    "4. Create an Element class with the instance attributes name, symbol, and number. Create a class\n",
    "object with the values 'Hydrogen', 'H', and 1."
   ]
  },
  {
   "cell_type": "code",
   "execution_count": 4,
   "id": "a9bb5607",
   "metadata": {},
   "outputs": [],
   "source": [
    "#Answer:-\n",
    "class Element:\n",
    "    def __init__(self, name, symbol, number):\n",
    "        self.name = name\n",
    "        self.symbol = symbol\n",
    "        self.number = number\n",
    "\n",
    "hydrogen = Element('Hydrogen', 'H', 1)\n"
   ]
  },
  {
   "cell_type": "code",
   "execution_count": 5,
   "id": "be23381a",
   "metadata": {},
   "outputs": [
    {
     "name": "stdout",
     "output_type": "stream",
     "text": [
      "Hydrogen\n",
      "H\n",
      "1\n"
     ]
    }
   ],
   "source": [
    "print(hydrogen.name)\n",
    "\n",
    "print(hydrogen.symbol)\n",
    "\n",
    "print(hydrogen.number)\n"
   ]
  },
  {
   "cell_type": "markdown",
   "id": "30211ec8",
   "metadata": {},
   "source": [
    "The Element class has instance attributes called name, symbol, and number,\n",
    "which are passed as parameters to the class's constructor method, __init__.\n",
    "Inside the constructor method, we use the self parameter to assign the parameter \n",
    "values to the instance attributes.\n",
    "\n",
    "To create a class object with the given values, we create an object called hydrogen \n",
    "from the Element class, passing the values 'Hydrogen', 'H', and 1 as arguments to \n",
    "the constructor method."
   ]
  },
  {
   "cell_type": "markdown",
   "id": "5dc6e34d",
   "metadata": {},
   "source": [
    "# Q5\n",
    "5. Make a dictionary with these keys and values: 'name':'Hydrogen', 'symbol': 'H', 'number': 1. Then,\n",
    "create an object called hydrogen from class Element using this dictionary."
   ]
  },
  {
   "cell_type": "code",
   "execution_count": 6,
   "id": "d4e39ba1",
   "metadata": {},
   "outputs": [],
   "source": [
    "#Answer:-\n",
    "element_dict = {'name': 'Hydrogen', 'symbol': 'H', 'number': 1}\n",
    "\n",
    "class Element:\n",
    "    def __init__(self, name, symbol, number):\n",
    "        self.name = name\n",
    "        self.symbol = symbol\n",
    "        self.number = number\n",
    "\n",
    "hydrogen = Element(**element_dict)\n"
   ]
  },
  {
   "cell_type": "markdown",
   "id": "fede9229",
   "metadata": {},
   "source": [
    "We create a dictionary called element_dict with the keys and \n",
    "values 'name': 'Hydrogen', 'symbol': 'H', and 'number': 1.\n",
    "\n",
    "Then, we define the Element class with the same instance attributes name,\n",
    "symbol, and number, and their corresponding constructor method.\n",
    "\n",
    "Finally, we create an object called hydrogen from the Element class, passing \n",
    "the element_dict dictionary as keyword arguments using the double asterisk (**) operator\n",
    "to unpack the dictionary."
   ]
  },
  {
   "cell_type": "markdown",
   "id": "e370c5a4",
   "metadata": {},
   "source": [
    "# Q6\n",
    "6. For the Element class, define a method called dump() that prints the values of the object’s\n",
    "attributes (name, symbol, and number). Create the hydrogen object from this new definition and\n",
    "use dump() to print its attributes."
   ]
  },
  {
   "cell_type": "code",
   "execution_count": 7,
   "id": "897272ea",
   "metadata": {},
   "outputs": [
    {
     "name": "stdout",
     "output_type": "stream",
     "text": [
      "Name: Hydrogen\n",
      "Symbol: H\n",
      "Number: 1\n"
     ]
    }
   ],
   "source": [
    "#Answer:-\n",
    "class Element:\n",
    "    def __init__(self, name, symbol, number):\n",
    "        self.name = name\n",
    "        self.symbol = symbol\n",
    "        self.number = number\n",
    "        \n",
    "    def dump(self):\n",
    "        print('Name:', self.name)\n",
    "        print('Symbol:', self.symbol)\n",
    "        print('Number:', self.number)\n",
    "\n",
    "hydrogen = Element('Hydrogen', 'H', 1)\n",
    "hydrogen.dump()\n"
   ]
  },
  {
   "cell_type": "markdown",
   "id": "f7af5dac",
   "metadata": {},
   "source": [
    "We define the dump() method inside the Element class, which prints the values of the object's attributes name,\n",
    "symbol, and number. \n",
    "We use the self parameter to access the instance attributes of the object.\n",
    "\n",
    "Then, we create an object called hydrogen from the Element class, passing the values\n",
    "'Hydrogen', 'H', and 1 as arguments to the constructor method."
   ]
  },
  {
   "cell_type": "markdown",
   "id": "8c309126",
   "metadata": {},
   "source": [
    "# Q7\n",
    "\n",
    "7. Call print(hydrogen). In the definition of Element, change the name of method dump to __str__,\n",
    "create a new hydrogen object, and call print(hydrogen) again."
   ]
  },
  {
   "cell_type": "code",
   "execution_count": 9,
   "id": "c76e22d7",
   "metadata": {},
   "outputs": [
    {
     "name": "stdout",
     "output_type": "stream",
     "text": [
      "Name: Hydrogen, Symbol: H, Number: 1\n"
     ]
    }
   ],
   "source": [
    "#Answer:-\n",
    "class Element:\n",
    "    def __init__(self, name, symbol, number):\n",
    "        self.name = name\n",
    "        self.symbol = symbol\n",
    "        self.number = number\n",
    "        \n",
    "    def __str__(self):\n",
    "        return f'Name: {self.name}, Symbol: {self.symbol}, Number: {self.number}'\n",
    "\n",
    "hydrogen = Element('Hydrogen', 'H', 1)\n",
    "print(hydrogen)\n"
   ]
  },
  {
   "cell_type": "markdown",
   "id": "e528179a",
   "metadata": {},
   "source": [
    "We change the name of the dump() method to __str__(), \n",
    "which is a special method that returns a string representation of the object.\n",
    "We use an f-string to format the string with the values of the object's attributes.\n",
    "\n",
    "Then, we create a new hydrogen object using the same values as before."
   ]
  },
  {
   "cell_type": "markdown",
   "id": "bd553733",
   "metadata": {},
   "source": [
    "# Q8\n",
    "8. Modify Element to make the attributes name, symbol, and number private. Define a getter\n",
    "property for each to return its value."
   ]
  },
  {
   "cell_type": "code",
   "execution_count": 10,
   "id": "e797c6bf",
   "metadata": {},
   "outputs": [],
   "source": [
    "#Answer:-\n",
    "class Element:\n",
    "    def __init__(self, name, symbol, number):\n",
    "        self.__name = name\n",
    "        self.__symbol = symbol\n",
    "        self.__number = number\n",
    "        \n",
    "    @property\n",
    "    def name(self):\n",
    "        return self.__name\n",
    "    \n",
    "    @property\n",
    "    def symbol(self):\n",
    "        return self.__symbol\n",
    "    \n",
    "    @property\n",
    "    def number(self):\n",
    "        return self.__number\n"
   ]
  },
  {
   "cell_type": "code",
   "execution_count": 11,
   "id": "639837eb",
   "metadata": {},
   "outputs": [
    {
     "name": "stdout",
     "output_type": "stream",
     "text": [
      "Hydrogen\n",
      "H\n",
      "1\n"
     ]
    }
   ],
   "source": [
    "hydrogen = Element('Hydrogen', 'H', 1)\n",
    "print(hydrogen.name)   # prints 'Hydrogen'\n",
    "print(hydrogen.symbol) # prints 'H'\n",
    "print(hydrogen.number) # prints 1\n"
   ]
  },
  {
   "cell_type": "markdown",
   "id": "b014e406",
   "metadata": {},
   "source": [
    "To make the attributes name, symbol, and number private, we can prefix their names with double\n",
    "underscores (__). This will cause them to be name-mangled,\n",
    "which means that they can only be accessed from within the class using a mangled name.\n",
    "\n",
    "We prefix the names of the attributes with double underscores to make them private.\n",
    "Then, we define getter properties for each attribute using the @property decorator.\n",
    "The getter properties simply return the values of the private attributes.\n",
    "\n",
    "We can see that we can access the values of the private attributes using the getter properties,\n",
    "even though we can't access the attributes directly. This helps to encapsulate the\n",
    "implementation details of the class and prevent \n",
    "accidental modification of its internal state."
   ]
  },
  {
   "cell_type": "markdown",
   "id": "315f25c4",
   "metadata": {},
   "source": [
    "# Q9\n",
    "9. Define three classes: Bear, Rabbit, and Octothorpe. For each, define only one method: eats(). This\n",
    "should return 'berries' (Bear), 'clover' (Rabbit), or 'campers' (Octothorpe). Create one object from\n",
    "each and print what it eats.\n"
   ]
  },
  {
   "cell_type": "code",
   "execution_count": 12,
   "id": "ae58d6f3",
   "metadata": {},
   "outputs": [
    {
     "name": "stdout",
     "output_type": "stream",
     "text": [
      "The bear eats berries\n",
      "The rabbit eats clover\n",
      "The octothorpe eats campers\n"
     ]
    }
   ],
   "source": [
    "#Answer:-\n",
    "class Bear:\n",
    "    def eats(self):\n",
    "        return 'berries'\n",
    "\n",
    "class Rabbit:\n",
    "    def eats(self):\n",
    "        return 'clover'\n",
    "\n",
    "class Octothorpe:\n",
    "    def eats(self):\n",
    "        return 'campers'\n",
    "bear = Bear()\n",
    "rabbit = Rabbit()\n",
    "octothorpe = Octothorpe()\n",
    "\n",
    "print(\"The bear eats\", bear.eats())\n",
    "print(\"The rabbit eats\", rabbit.eats())\n",
    "print(\"The octothorpe eats\", octothorpe.eats())\n"
   ]
  },
  {
   "cell_type": "code",
   "execution_count": null,
   "id": "a5895e6e",
   "metadata": {},
   "outputs": [],
   "source": []
  },
  {
   "cell_type": "markdown",
   "id": "4b238857",
   "metadata": {},
   "source": [
    "# Q10\n",
    "10. Define these classes: Laser, Claw, and SmartPhone. Each has only one method: does(). This\n",
    "returns 'disintegrate' (Laser), 'crush' (Claw), or 'ring' (SmartPhone). Then, define the class Robot that\n",
    "has one instance (object) of each of these. Define a does() method for the Robot that prints what its\n",
    "component objects do."
   ]
  },
  {
   "cell_type": "code",
   "execution_count": 13,
   "id": "441e0f6f",
   "metadata": {},
   "outputs": [],
   "source": [
    "#Answer:-\n",
    "class Laser:\n",
    "    def does(self):\n",
    "        return 'disintegrate'\n",
    "\n",
    "class Claw:\n",
    "    def does(self):\n",
    "        return 'crush'\n",
    "\n",
    "class SmartPhone:\n",
    "    def does(self):\n",
    "        return 'ring'\n",
    "\n",
    "class Robot:\n",
    "    def __init__(self):\n",
    "        self.laser = Laser()\n",
    "        self.claw = Claw()\n",
    "        self.smartphone = SmartPhone()\n",
    "\n",
    "    def does(self):\n",
    "        print(\"The laser\", self.laser.does())\n",
    "        print(\"The claw\", self.claw.does())\n",
    "        print(\"The smartphone\", self.smartphone.does())\n"
   ]
  },
  {
   "cell_type": "code",
   "execution_count": 14,
   "id": "d9526925",
   "metadata": {},
   "outputs": [
    {
     "name": "stdout",
     "output_type": "stream",
     "text": [
      "The laser disintegrate\n",
      "The claw crush\n",
      "The smartphone ring\n"
     ]
    }
   ],
   "source": [
    "robot = Robot()\n",
    "robot.does()\n"
   ]
  },
  {
   "cell_type": "code",
   "execution_count": null,
   "id": "1ac4dc72",
   "metadata": {},
   "outputs": [],
   "source": []
  },
  {
   "cell_type": "code",
   "execution_count": null,
   "id": "89996d63",
   "metadata": {},
   "outputs": [],
   "source": []
  },
  {
   "cell_type": "code",
   "execution_count": null,
   "id": "4bd6cbf6",
   "metadata": {},
   "outputs": [],
   "source": []
  },
  {
   "cell_type": "code",
   "execution_count": null,
   "id": "5956e7a0",
   "metadata": {},
   "outputs": [],
   "source": []
  },
  {
   "cell_type": "code",
   "execution_count": null,
   "id": "7e4adab5",
   "metadata": {},
   "outputs": [],
   "source": []
  },
  {
   "cell_type": "code",
   "execution_count": null,
   "id": "d2057f76",
   "metadata": {},
   "outputs": [],
   "source": []
  },
  {
   "cell_type": "code",
   "execution_count": null,
   "id": "13d4c0f8",
   "metadata": {},
   "outputs": [],
   "source": []
  },
  {
   "cell_type": "code",
   "execution_count": null,
   "id": "acbc8754",
   "metadata": {},
   "outputs": [],
   "source": []
  },
  {
   "cell_type": "code",
   "execution_count": null,
   "id": "92a4b812",
   "metadata": {},
   "outputs": [],
   "source": []
  }
 ],
 "metadata": {
  "kernelspec": {
   "display_name": "Python 3 (ipykernel)",
   "language": "python",
   "name": "python3"
  },
  "language_info": {
   "codemirror_mode": {
    "name": "ipython",
    "version": 3
   },
   "file_extension": ".py",
   "mimetype": "text/x-python",
   "name": "python",
   "nbconvert_exporter": "python",
   "pygments_lexer": "ipython3",
   "version": "3.9.13"
  }
 },
 "nbformat": 4,
 "nbformat_minor": 5
}
