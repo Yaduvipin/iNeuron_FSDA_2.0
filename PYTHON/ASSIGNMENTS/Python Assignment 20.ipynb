{
 "cells": [
  {
   "cell_type": "markdown",
   "id": "24a007cf",
   "metadata": {},
   "source": [
    "# Q1\n",
    "1. Set the variable test1 to the string 'This is a test of the emergency text system' and save test1 to a\n",
    "file named test.txt."
   ]
  },
  {
   "cell_type": "code",
   "execution_count": 1,
   "id": "c0bdec33",
   "metadata": {},
   "outputs": [],
   "source": [
    "#Answer:-\n",
    "test1 = 'This is a test of the emergency text system'\n",
    "with open('test.txt', 'w') as f:\n",
    "    f.write(test1)\n"
   ]
  },
  {
   "cell_type": "markdown",
   "id": "4b0455de",
   "metadata": {},
   "source": [
    "In this code, we first define the string 'This is a test of the emergency text system' and\n",
    "assign it to the variable test1. We then use the open() function to open a file named 'test.txt' in\n",
    "write mode ('w'). We use a with block to ensure that the file is automatically closed once\n",
    "we're done with it. Finally, we use the write() method of the file object to write the contents \n",
    "of test1 to the file.\n",
    "\n",
    "\n",
    "\n"
   ]
  },
  {
   "cell_type": "markdown",
   "id": "3c8e6244",
   "metadata": {},
   "source": [
    "# Q2\n",
    "2. Read the contents of the file test.txt into the variable test2. Is there a difference between test 1\n",
    "and test 2?\n"
   ]
  },
  {
   "cell_type": "code",
   "execution_count": 3,
   "id": "d6153d08",
   "metadata": {},
   "outputs": [
    {
     "name": "stdout",
     "output_type": "stream",
     "text": [
      "True\n"
     ]
    }
   ],
   "source": [
    "#Answer:-\n",
    "with open('test.txt', 'r') as f:\n",
    "    test2 = f.read()\n",
    "    \n",
    "print(test1 == test2)  \n",
    "    \n",
    "    \n"
   ]
  },
  {
   "cell_type": "markdown",
   "id": "ae7d7fa9",
   "metadata": {},
   "source": [
    "In this code, we use the open() function again to open the test.\n",
    "txt file, this time in read mode ('r'). We use a with block to ensure\n",
    "that the file is automatically closed once we're done with it. Finally,\n",
    "we use the read() method of the file object to read the contents of the file\n",
    "and assign them to the variable test2.\n",
    "\n",
    "Now, if we compare test1 and test2 using the == operator, and \"True\" is output."
   ]
  },
  {
   "cell_type": "markdown",
   "id": "15596246",
   "metadata": {},
   "source": [
    "# Q3\n",
    "3. Create a CSV file called books.csv by using these lines:\n",
    "title,author,year\n",
    "The Weirdstone of Brisingamen,Alan Garner,1960\n",
    "Perdido Street Station,China Miéville,2000\n",
    "Thud!,Terry Pratchett,2005\n",
    "The Spellman Files,Lisa Lutz,2007\n",
    "Small Gods,Terry Pratchett,1992\n"
   ]
  },
  {
   "cell_type": "code",
   "execution_count": 4,
   "id": "16f52e32",
   "metadata": {},
   "outputs": [],
   "source": [
    "#Answer:-\n",
    "import csv\n",
    "\n",
    "lines = [\n",
    "    ['title', 'author', 'year'],\n",
    "    ['The Weirdstone of Brisingamen', 'Alan Garner', '1960'],\n",
    "    ['Perdido Street Station', 'China Miéville', '2000'],\n",
    "    ['Thud!', 'Terry Pratchett', '2005'],\n",
    "    ['The Spellman Files', 'Lisa Lutz', '2007'],\n",
    "    ['Small Gods', 'Terry Pratchett', '1992']\n",
    "]\n",
    "\n",
    "with open('books.csv', 'w', newline='') as f:\n",
    "    writer = csv.writer(f)\n",
    "    writer.writerows(lines)\n"
   ]
  },
  {
   "cell_type": "markdown",
   "id": "578e961e",
   "metadata": {},
   "source": [
    "In this code, we first import the csv module. We then define a list of lists called lines that \n",
    "contains the data we want to write to the CSV file. Each inner list represents a row in the CSV file,\n",
    "and the first inner list contains the column headers.\n",
    "\n",
    "We then use the open() function to open a file named 'books.csv' in write mode ('w').\n",
    "We use a with block to ensure that the file is automatically closed once we're done with it.\n",
    "We pass an additional argument newline='' to the open() function to ensure that the CSV file is\n",
    "written with the correct line endings.\n",
    "\n",
    "We then create a csv.writer object, passing the file object f as the argument. Finally,\n",
    "we use the writerows() method of the writer object to write the lines list to the CSV file."
   ]
  },
  {
   "cell_type": "markdown",
   "id": "389d0253",
   "metadata": {},
   "source": [
    "# Q4\n",
    "4. Use the sqlite3 module to create a SQLite database called books.db, and a table called books with\n",
    "these fields: title (text), author (text), and year (integer)."
   ]
  },
  {
   "cell_type": "code",
   "execution_count": 5,
   "id": "eff7d1be",
   "metadata": {},
   "outputs": [],
   "source": [
    "#Answer:-\n",
    "import sqlite3\n",
    "\n",
    "conn = sqlite3.connect('books.db')\n",
    "c = conn.cursor()\n",
    "\n",
    "c.execute('''\n",
    "    CREATE TABLE books\n",
    "    (title TEXT, author TEXT, year INTEGER)\n",
    "''')\n",
    "\n",
    "conn.commit()\n",
    "conn.close()\n"
   ]
  },
  {
   "cell_type": "markdown",
   "id": "5d4fcd1b",
   "metadata": {},
   "source": [
    "In this code, we first import the sqlite3 module. We then use the connect() method\n",
    "of the sqlite3 module to connect to a new database called 'books.db'. This will create\n",
    "the database file if it doesn't already exist.\n",
    "\n",
    "We then create a cursor object by calling the cursor() method on the connection object.\n",
    "The cursor object allows us to execute SQL commands on the database.\n",
    "\n",
    "We use the cursor's execute() method to execute an SQL command that creates a new table \n",
    "called books. The table has three columns: title (of type TEXT), author (also of type TEXT),\n",
    "    and year (of type INTEGER).\n",
    "\n",
    "We then use the connection object's commit() method to save the changes we made to the database. \n",
    "Finally, we close the connection using the close() method."
   ]
  },
  {
   "cell_type": "markdown",
   "id": "aa96e9b8",
   "metadata": {},
   "source": [
    "# Q5\n",
    "5. Read books.csv and insert its data into the book table.\n"
   ]
  },
  {
   "cell_type": "code",
   "execution_count": 6,
   "id": "fcd942ef",
   "metadata": {},
   "outputs": [],
   "source": [
    "#Answer:-\n",
    "import csv\n",
    "import sqlite3\n",
    "\n",
    "conn = sqlite3.connect('books.db')\n",
    "c = conn.cursor()\n",
    "\n",
    "# Create the books table if it doesn't already exist\n",
    "c.execute('''\n",
    "    CREATE TABLE IF NOT EXISTS books\n",
    "    (title TEXT, author TEXT, year INTEGER)\n",
    "''')\n",
    "\n",
    "# Read the data from the CSV file and insert it into the books table\n",
    "with open('books.csv', 'r') as f:\n",
    "    reader = csv.reader(f)\n",
    "    next(reader)  # skip the header row\n",
    "    for row in reader:\n",
    "        c.execute('INSERT INTO books VALUES (?, ?, ?)', row)\n",
    "\n",
    "conn.commit()\n",
    "conn.close()\n"
   ]
  },
  {
   "cell_type": "markdown",
   "id": "8f6adabe",
   "metadata": {},
   "source": [
    "In this code, we first import the csv and sqlite3 modules. We then use the connect()\n",
    "method of the sqlite3 module to connect to the books.db database.\n",
    "\n",
    "We create a cursor object using the cursor() method of the connection object.\n",
    "We then use the cursor object's execute() method to create the books table if it doesn't already exist.\n",
    "\n",
    "We then use the open() function to open the books.csv file in read mode ('r').\n",
    "We create a csv.reader object, passing the file object f as the argument. We use the next() function \n",
    "to skip the header row of the CSV file.\n",
    "\n",
    "We then loop through the remaining rows in the CSV file and use the cursor object's execute() \n",
    "method to insert each row into the books table using an SQL INSERT statement with placeholders (?) for the values.\n",
    "\n",
    "Finally, we use the connection object's commit() method to save the changes we made to the database. \n",
    "We then close the connection using the close() method."
   ]
  },
  {
   "cell_type": "code",
   "execution_count": null,
   "id": "1f492622",
   "metadata": {},
   "outputs": [],
   "source": [
    "Q6\n",
    "\n",
    "6. Select and print the title column from the book table in alphabetical order."
   ]
  },
  {
   "cell_type": "code",
   "execution_count": 7,
   "id": "8e4ca032",
   "metadata": {
    "scrolled": true
   },
   "outputs": [
    {
     "name": "stdout",
     "output_type": "stream",
     "text": [
      "Perdido Street Station\n",
      "Small Gods\n",
      "The Spellman Files\n",
      "The Weirdstone of Brisingamen\n",
      "Thud!\n"
     ]
    }
   ],
   "source": [
    "#Answer:\n",
    "import sqlite3\n",
    "\n",
    "conn = sqlite3.connect('books.db')\n",
    "c = conn.cursor()\n",
    "\n",
    "# Select the title column from the books table in alphabetical order\n",
    "c.execute('SELECT title FROM books ORDER BY title ASC')\n",
    "titles = c.fetchall()\n",
    "\n",
    "# Print the title column\n",
    "for title in titles:\n",
    "    print(title[0])\n",
    "\n",
    "conn.close()\n"
   ]
  },
  {
   "cell_type": "markdown",
   "id": "0cf2e163",
   "metadata": {},
   "source": [
    "In this code, we first import the sqlite3 module and connect to the books.db database.\n",
    "\n",
    "We create a cursor object using the cursor() method of the connection object. \n",
    "We then use the cursor object's execute() method to select the title column \n",
    "from the books table, ordering the results by the title column in ascending order (ASC).\n",
    "\n",
    "We use the cursor object's fetchall() method to fetch all the rows returned by \n",
    "the query and assign them to the variable titles.\n",
    "\n",
    "We then loop through the titles list and print each title in the first column \n",
    "of the result set using indexing (title[0]).\n",
    "\n",
    "Finally, we use the connection object's close() method to close the connection to the database."
   ]
  },
  {
   "cell_type": "markdown",
   "id": "3f1ceed5",
   "metadata": {},
   "source": [
    "# Q7\n",
    "7. From the book table, select and print all columns in the order of publication.\n"
   ]
  },
  {
   "cell_type": "code",
   "execution_count": 8,
   "id": "3a1a299e",
   "metadata": {},
   "outputs": [
    {
     "name": "stdout",
     "output_type": "stream",
     "text": [
      "('The Weirdstone of Brisingamen', 'Alan Garner', 1960)\n",
      "('Small Gods', 'Terry Pratchett', 1992)\n",
      "('Perdido Street Station', 'China Miéville', 2000)\n",
      "('Thud!', 'Terry Pratchett', 2005)\n",
      "('The Spellman Files', 'Lisa Lutz', 2007)\n"
     ]
    }
   ],
   "source": [
    "#Answer:-\n",
    "import sqlite3\n",
    "\n",
    "conn = sqlite3.connect('books.db')\n",
    "c = conn.cursor()\n",
    "\n",
    "# Select all columns from the books table in the order of publication\n",
    "c.execute('SELECT * FROM books ORDER BY year ASC')\n",
    "books = c.fetchall()\n",
    "\n",
    "# Print all columns in the order of publication\n",
    "for book in books:\n",
    "    print(book)\n",
    "\n",
    "conn.close()\n"
   ]
  },
  {
   "cell_type": "markdown",
   "id": "17281a59",
   "metadata": {},
   "source": [
    "In this code, we first import the sqlite3 module and connect to the books.db database.\n",
    "\n",
    "We create a cursor object using the cursor() method of the connection object.\n",
    "We then use the cursor object's execute() method to select all columns from the \n",
    "books table, ordering the results by the year column in ascending order (ASC).\n",
    "\n",
    "We use the cursor object's fetchall() method to fetch all the rows returned by the \n",
    "query and assign them to the variable books.\n",
    "\n",
    "We then loop through the books list and print each book in the order of publication,\n",
    "which corresponds to the ascending order of the year column.\n",
    "\n",
    "Finally, we use the connection object's close() method to close the connection to the database.\n"
   ]
  },
  {
   "cell_type": "markdown",
   "id": "3767a482",
   "metadata": {},
   "source": [
    "# Q8\n",
    "8. Use the sqlalchemy module to connect to the sqlite3 database books.db that you just made in\n",
    "exercise 6."
   ]
  },
  {
   "cell_type": "code",
   "execution_count": 9,
   "id": "3c85eb82",
   "metadata": {},
   "outputs": [],
   "source": [
    "#Answer:-\n",
    "from sqlalchemy import create_engine\n",
    "\n",
    "engine = create_engine('sqlite:///books.db')\n"
   ]
  },
  {
   "cell_type": "markdown",
   "id": "b65b779e",
   "metadata": {},
   "source": [
    "In this code, we first import the create_engine() function from the sqlalchemy module.\n",
    "\n",
    "We then use the create_engine() function to create an engine object that connects to the books.\n",
    "db SQLite database. The database connection URI is passed to the create_engine() function as a string,\n",
    "where sqlite:/// specifies the database driver and books.db specifies the database filename.\n",
    "\n",
    "The resulting engine object can be used to execute SQL commands on the books.db database using SQLAlchemy."
   ]
  },
  {
   "cell_type": "markdown",
   "id": "539fc20c",
   "metadata": {},
   "source": [
    "# Q9\n",
    "\n",
    "9. Install the Redis server and the Python redis library (pip install redis) on your computer. Create a\n",
    "Redis hash called test with the fields count (1) and name ('Fester Bestertester'). Print all the fields for\n",
    "test."
   ]
  },
  {
   "cell_type": "code",
   "execution_count": 12,
   "id": "01a9acf6",
   "metadata": {
    "scrolled": true
   },
   "outputs": [],
   "source": [
    "#Answer:-\n",
    "\n"
   ]
  },
  {
   "cell_type": "markdown",
   "id": "ec6bf7ea",
   "metadata": {},
   "source": [
    "import redis\n",
    "\n",
    "\n",
    "#Connect to Redis server\n",
    "\n",
    "\n",
    "r = redis.Redis(host='localhost', port=6379, db=0)\n",
    "\n",
    "#Create Redis hash called test with the fields count (1) and name ('Fester Bestertester')\n",
    "\n",
    "\n",
    "r.hmset('test', {'count': 1, 'name': 'Fester Bestertester'})\n",
    "\n",
    "\n",
    "#Print all fields for test\n",
    "\n",
    "\n",
    "print(r.hgetall('test'))\n"
   ]
  },
  {
   "cell_type": "markdown",
   "id": "69e57fbd",
   "metadata": {},
   "source": [
    "In this code, we first import the redis module.\n",
    "\n",
    "We then use the Redis() constructor to connect to the Redis server running on localhost at port 6379,\n",
    "using database 0.\n",
    "\n",
    "We use the hmset() method to create a Redis hash called test with the fields count (1)\n",
    "and name ('Fester Bestertester').\n",
    "\n",
    "Finally, we use the hgetall() method to print all the fields for the test hash,\n",
    "which returns a dictionary with the field names and their values."
   ]
  },
  {
   "cell_type": "code",
   "execution_count": null,
   "id": "c6d34b56",
   "metadata": {},
   "outputs": [],
   "source": []
  },
  {
   "cell_type": "markdown",
   "id": "93875eef",
   "metadata": {},
   "source": [
    "# Q10\n",
    "\n",
    "10. Increment the count field of test and print it."
   ]
  },
  {
   "cell_type": "markdown",
   "id": "10885245",
   "metadata": {},
   "source": [
    "#Answer:-\n",
    "import redis\n",
    "\n",
    "#Connect to Redis server\n",
    "\n",
    "\n",
    "r = redis.Redis(host='localhost', port=6379, db=0)\n",
    "\n",
    "#Increment the count field of test and print it\n",
    "\n",
    "\n",
    "r.hincrby('test', 'count', 1)\n",
    "\n",
    "print(r.hget('test', 'count'))\n"
   ]
  },
  {
   "cell_type": "markdown",
   "id": "28f0934a",
   "metadata": {},
   "source": [
    "In this code, we first import the redis module.\n",
    "\n",
    "We then use the Redis() constructor to connect to the Redis server running on localhost at port 6379, using database 0.\n",
    "\n",
    "We use the hincrby() method to increment the count field of test Redis hash by 1.\n",
    "\n",
    "Finally, we use the hget() method to print the value of the count field of test."
   ]
  },
  {
   "cell_type": "markdown",
   "id": "34f3c8a3",
   "metadata": {},
   "source": []
  },
  {
   "cell_type": "code",
   "execution_count": null,
   "id": "8a3071b3",
   "metadata": {},
   "outputs": [],
   "source": []
  },
  {
   "cell_type": "code",
   "execution_count": null,
   "id": "1a035824",
   "metadata": {},
   "outputs": [],
   "source": []
  },
  {
   "cell_type": "code",
   "execution_count": null,
   "id": "91a784bf",
   "metadata": {},
   "outputs": [],
   "source": []
  },
  {
   "cell_type": "code",
   "execution_count": null,
   "id": "2ae3511d",
   "metadata": {},
   "outputs": [],
   "source": []
  },
  {
   "cell_type": "code",
   "execution_count": null,
   "id": "7fce6c40",
   "metadata": {},
   "outputs": [],
   "source": []
  },
  {
   "cell_type": "code",
   "execution_count": null,
   "id": "a7ff8444",
   "metadata": {},
   "outputs": [],
   "source": []
  }
 ],
 "metadata": {
  "kernelspec": {
   "display_name": "Python 3 (ipykernel)",
   "language": "python",
   "name": "python3"
  },
  "language_info": {
   "codemirror_mode": {
    "name": "ipython",
    "version": 3
   },
   "file_extension": ".py",
   "mimetype": "text/x-python",
   "name": "python",
   "nbconvert_exporter": "python",
   "pygments_lexer": "ipython3",
   "version": "3.9.13"
  }
 },
 "nbformat": 4,
 "nbformat_minor": 5
}
