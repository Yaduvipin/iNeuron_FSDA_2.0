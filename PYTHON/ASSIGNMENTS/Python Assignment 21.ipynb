{
 "cells": [
  {
   "cell_type": "markdown",
   "id": "6382c817",
   "metadata": {},
   "source": [
    "# Q1\n",
    "1. Add the current date to the text file today.txt as a string."
   ]
  },
  {
   "cell_type": "code",
   "execution_count": 1,
   "id": "1f4cb504",
   "metadata": {},
   "outputs": [],
   "source": [
    "#Answer\n",
    "from datetime import date\n",
    "\n",
    "today = date.today()\n",
    "with open('today.txt', 'a') as file:\n",
    "    file.write(str(today) + '\\n')\n"
   ]
  },
  {
   "cell_type": "markdown",
   "id": "41c71799",
   "metadata": {},
   "source": [
    "This code imports the date class from the datetime module and uses it to get today's date.\n",
    "It then opens the file today.txt in append mode ('a') and writes the string representation of\n",
    "today's date to it, followed by a newline character ('\\n'). This will add the current date to\n",
    "the end of the file as a string.\n",
    "\n",
    "\n",
    "\n",
    "\n",
    "\n",
    "\n"
   ]
  },
  {
   "cell_type": "markdown",
   "id": "a7648d56",
   "metadata": {},
   "source": [
    "# Q2.\n",
    "\n",
    "2. Read the text file today.txt into the string today_string\n"
   ]
  },
  {
   "cell_type": "code",
   "execution_count": 2,
   "id": "cce3ca87",
   "metadata": {},
   "outputs": [],
   "source": [
    "#Answer:\n",
    "with open('today.txt', 'r') as file:\n",
    "    today_string = file.read()\n"
   ]
  },
  {
   "cell_type": "markdown",
   "id": "322d1041",
   "metadata": {},
   "source": [
    "This code opens the file today.txt in read mode ('r') using a with statement to ensure that the file is properly\n",
    "closed after it's been read. It then reads the entire contents of the file\n",
    "into a string variable called today_string. This will give you the contents of the today.txt file as a string."
   ]
  },
  {
   "cell_type": "markdown",
   "id": "90eb808c",
   "metadata": {},
   "source": [
    "# Q3.\n",
    "3. Parse the date from today_string.\n"
   ]
  },
  {
   "cell_type": "code",
   "execution_count": 3,
   "id": "5fe59611",
   "metadata": {},
   "outputs": [],
   "source": [
    "#Answer:\n",
    "from datetime import datetime\n",
    "\n",
    "date_str = today_string.strip()  # remove any trailing whitespace\n",
    "parsed_date = datetime.strptime(date_str, '%Y-%m-%d').date()\n"
   ]
  },
  {
   "cell_type": "markdown",
   "id": "d788e0b8",
   "metadata": {},
   "source": [
    "The strip() method is used to remove any trailing whitespace from the today_string variable.\n",
    "Then, the datetime.strptime() function is used to parse the date from the string using the\n",
    "format '%Y-%m-%d', which corresponds to a string in the format YYYY-MM-DD. This will return \n",
    "a datetime object that we can convert to a date object by calling the date() method on it.\n",
    "The resulting date object is stored in the parsed_date variable."
   ]
  },
  {
   "cell_type": "markdown",
   "id": "e3e034af",
   "metadata": {},
   "source": [
    "# Q4.\n",
    "4. List the files in your current directory"
   ]
  },
  {
   "cell_type": "code",
   "execution_count": 4,
   "id": "015e765b",
   "metadata": {},
   "outputs": [
    {
     "name": "stdout",
     "output_type": "stream",
     "text": [
      "['.ipynb_checkpoints', 'BCG Task 3.ipynb', 'BCG_Task_2.ipynb', 'books.csv', 'books.db', 'clean_eda_data.csv', 'Distribution of the consumption.png', 'predicted_data.csv', 'Python assignment 15.ipynb', 'Python Assignment 16.ipynb', 'Python Assignment 17.ipynb', 'Python Assignment 18.ipynb', 'Python Assignment 19.ipynb', 'Python Assignment 20.ipynb', 'Python Assignment 21.ipynb', 'test.txt', 'today.txt', 'Untitled.ipynb', 'View of Correlation.png', 'View of Forecast.png', 'View of Margins.png', 'View of Subscribed power.png']\n"
     ]
    }
   ],
   "source": [
    "#Answer:\n",
    "import os\n",
    "\n",
    "files = os.listdir('.')\n",
    "print(files)\n"
   ]
  },
  {
   "cell_type": "markdown",
   "id": "7bccc0f5",
   "metadata": {},
   "source": [
    "This code uses the os module to list the files in the current directory using the listdir() function.\n",
    "The function is called with the argument '.', which represents the current directory. The resulting \n",
    "list of filenames is stored in the files variable, which is then printed to the console using the print()\n",
    "function. This will give you a list of the filenames in the current directory."
   ]
  },
  {
   "cell_type": "markdown",
   "id": "c8f0c1fb",
   "metadata": {},
   "source": [
    "# Q5.\n",
    "5. Create a list of all of the files in your parent directory (minimum five files should be available).\n"
   ]
  },
  {
   "cell_type": "code",
   "execution_count": 5,
   "id": "769aa373",
   "metadata": {},
   "outputs": [
    {
     "name": "stdout",
     "output_type": "stream",
     "text": [
      "['AI&ML', 'All_notes_goalkicker_computerbuddy.zip', 'AttributeDataSet.csv', 'BootStrap_Tutorial__Twitter.pdf', 'CarSales.xlsx - BaseData.csv', 'ConsumerComplaints(1).csv', 'Cracking the coding INTERVIEW.pdf', 'DataScience_Interview_Questions.pdf', 'DataScience_Interview_QuestionsAnswers.pdf', 'DataScience_mtech_BITS PILANI.pdf', 'DataStructure and Algorithm.pdf', 'desktop.ini', 'Fax', 'Frontend Resources', 'Frontend Resources .zip', 'GUI_Python.pdf', 'IDS_MidSem_Regular_Cluster - Reference QP.pdf', 'LeetCode_Python_Complete_Solution.pdf', 'My Music', 'My Pictures', 'My Videos', 'PYTHON', 'Python Ineuron', 'Python Scripts', 'ROBOTICS using Python.pdf', 'sales_data_final (2).xlsx', 'sales_data_final (3)tue2.csv', 'sales_data_final (3)tue21.csv', 'sales_data_final.csv', 'sales_data_final_9jan.csv', 'Samsung_SIC_AI and Data Science.pdf', 'Scanned Documents', 'SIC_COURSE Schedule.pdf', 'SnowFlake', 'SQLNotesForProfessionals.pdf', 'sql_12.sql', 'sql_13.sql', 'sql_14.sql', 'sql_17.sql', 'sql_19_join_union_indexing.sql', 'WEB_Javascript_MERN', 'WindowsPowerShell', 'Zoom']\n"
     ]
    }
   ],
   "source": [
    "#Answer:\n",
    "import os\n",
    "\n",
    "parent_dir = os.path.abspath('..')\n",
    "files = os.listdir(parent_dir)\n",
    "print(files)\n"
   ]
  },
  {
   "cell_type": "markdown",
   "id": "8281f891",
   "metadata": {},
   "source": [
    "This code uses the os module to get the absolute path of the parent\n",
    "directory using the abspath() function. The function is called with \n",
    "the argument '..', which represents the parent directory of the current\n",
    "directory. The resulting parent directory path is stored in the parent_dir\n",
    "variable. The listdir() function is then used to list the files in the parent \n",
    "directory. The resulting list of filenames is stored in the files variable,\n",
    "which is then printed to the console using the print() function.\n",
    "This will give you a list of the filenames in the parent directory."
   ]
  },
  {
   "cell_type": "markdown",
   "id": "ef7cae0b",
   "metadata": {},
   "source": [
    "# Q6.\n",
    "6. Use multiprocessing to create three separate processes. Make each one wait a random number of\n",
    "seconds between one and five, print the current time, and then exit.\n"
   ]
  },
  {
   "cell_type": "code",
   "execution_count": 6,
   "id": "2a3fbce9",
   "metadata": {},
   "outputs": [],
   "source": [
    "#Answer:\n",
    "import multiprocessing\n",
    "import random\n",
    "import time\n",
    "import datetime\n",
    "\n",
    "def worker():\n",
    "    wait_time = random.randint(1, 5)\n",
    "    time.sleep(wait_time)\n",
    "    current_time = datetime.datetime.now().strftime('%Y-%m-%d %H:%M:%S')\n",
    "    print(f\"Process {multiprocessing.current_process().name} waited {wait_time} seconds and finished at {current_time}.\")\n",
    "\n",
    "if __name__ == '__main__':\n",
    "    for i in range(3):\n",
    "        process = multiprocessing.Process(target=worker, name=f\"Worker-{i}\")\n",
    "        process.start()\n"
   ]
  },
  {
   "cell_type": "markdown",
   "id": "9c35d9b7",
   "metadata": {},
   "source": [
    "This code defines a worker() function that generates a random wait time between 1 and 5 seconds using\n",
    "the random.randint() function. The time.sleep() function is used to pause the process for the generated wait time.\n",
    "\n",
    "The current time is obtained using the datetime.datetime.now() function, which returns a datetime object \n",
    "representing the current date and time. This datetime object is then formatted as a string using the strftime() method,\n",
    "\n",
    "with the format string '%Y-%m-%d %H:%M:%S'. The resulting string is printed to the console, along with the name of the \n",
    "current process, using the print() function.\n",
    "\n",
    "The main block creates three separate multiprocessing.Process objects, each with the target set to the worker() function.\n",
    "The name attribute is also set to a unique name for each process. The start() method is called on each process to start them.\n",
    "Since the worker() function is called in a separate process, the three processes will run concurrently, and their output\n",
    "may appear in a different order on each run."
   ]
  },
  {
   "cell_type": "markdown",
   "id": "a0f76542",
   "metadata": {},
   "source": [
    "# Q7.\n",
    "7. Create a date object of your day of birth.\n"
   ]
  },
  {
   "cell_type": "code",
   "execution_count": 8,
   "id": "94d9a8d6",
   "metadata": {},
   "outputs": [
    {
     "name": "stdout",
     "output_type": "stream",
     "text": [
      "1995-08-15\n"
     ]
    }
   ],
   "source": [
    "#Answer:\n",
    "from datetime import date\n",
    "\n",
    "birth_date = date(1995, 8, 15)  \n",
    "print(birth_date)\n"
   ]
  },
  {
   "cell_type": "markdown",
   "id": "58ca19b8",
   "metadata": {},
   "source": [
    "This code uses the date class from the datetime module to create a date object for the date August 15th, 1995. \n",
    "You can replace this with your actual date of birth by specifying the year, month, and day as arguments to the date()\n",
    "constructor. The resulting date object is stored in the birth_date variable and printed to the console using the print() \n",
    "function."
   ]
  },
  {
   "cell_type": "markdown",
   "id": "2fb94602",
   "metadata": {},
   "source": [
    "# Q8.\n",
    "8. What day of the week was your day of birth?"
   ]
  },
  {
   "cell_type": "code",
   "execution_count": 13,
   "id": "b27f663b",
   "metadata": {},
   "outputs": [
    {
     "name": "stdout",
     "output_type": "stream",
     "text": [
      "Tuesday\n"
     ]
    }
   ],
   "source": [
    "#Answer:\n",
    "from datetime import date\n",
    "\n",
    "birth_date = date(1995, 8, 15) \n",
    "day_of_week = birth_date.strftime(\"%A\")\n",
    "print(day_of_week)\n"
   ]
  },
  {
   "cell_type": "markdown",
   "id": "1002483d",
   "metadata": {},
   "source": [
    "This code uses the date class from the datetime module to create a date object for the date August 15th, 1995.\n",
    "You can replace this with your actual date of birth by specifying the year, month, and day as arguments to\n",
    "the date() constructor. The strftime() method is then used to format the date object as a string using \n",
    "the format string %A, which returns the full name of the weekday (e.g., \"Monday\", \"Tuesday\", etc.). \n",
    "The resulting string is stored in the day_of_week variable and printed to the console using the print() function.\n",
    "This will give you the day of the week for your specified date of birth."
   ]
  },
  {
   "cell_type": "code",
   "execution_count": null,
   "id": "e4d4d9a7",
   "metadata": {},
   "outputs": [],
   "source": []
  },
  {
   "cell_type": "markdown",
   "id": "09c3d679",
   "metadata": {},
   "source": [
    "# Q9.\n",
    "9. When will you be (or when were you) 10,000 days old?"
   ]
  },
  {
   "cell_type": "code",
   "execution_count": 14,
   "id": "0b6f16b7",
   "metadata": {},
   "outputs": [
    {
     "name": "stdout",
     "output_type": "stream",
     "text": [
      "You will be (or were) 10,000 days old on 2022-12-31\n"
     ]
    }
   ],
   "source": [
    "#Answer:\n",
    "import datetime\n",
    "\n",
    "birthdate = datetime.date(1995, 8, 15) \n",
    "ten_thousand_days = datetime.timedelta(days=10000)\n",
    "\n",
    "ten_thousand_days_old = birthdate + ten_thousand_days\n",
    "\n",
    "print(\"You will be (or were) 10,000 days old on\", ten_thousand_days_old)\n"
   ]
  },
  {
   "cell_type": "markdown",
   "id": "7900296a",
   "metadata": {},
   "source": [
    "In this code, we first define a birthdate variable as a datetime.date object representing our birthdate.\n",
    "You should replace the year, month, and day with your own birthdate.\n",
    "\n",
    "We then define a ten_thousand_days variable as a datetime.timedelta object representing 10,000 days.\n",
    "\n",
    "Finally, we add ten_thousand_days to birthdate using the + operator, resulting in a new datetime.\n",
    "date object representing the date when you will be (or were) 10,000 days old. We print out this date using print()."
   ]
  },
  {
   "cell_type": "code",
   "execution_count": null,
   "id": "c9f19ee5",
   "metadata": {},
   "outputs": [],
   "source": []
  },
  {
   "cell_type": "code",
   "execution_count": null,
   "id": "3ae1336f",
   "metadata": {},
   "outputs": [],
   "source": []
  },
  {
   "cell_type": "code",
   "execution_count": null,
   "id": "f642068f",
   "metadata": {},
   "outputs": [],
   "source": []
  },
  {
   "cell_type": "code",
   "execution_count": null,
   "id": "697f6697",
   "metadata": {},
   "outputs": [],
   "source": []
  }
 ],
 "metadata": {
  "kernelspec": {
   "display_name": "Python 3 (ipykernel)",
   "language": "python",
   "name": "python3"
  },
  "language_info": {
   "codemirror_mode": {
    "name": "ipython",
    "version": 3
   },
   "file_extension": ".py",
   "mimetype": "text/x-python",
   "name": "python",
   "nbconvert_exporter": "python",
   "pygments_lexer": "ipython3",
   "version": "3.9.13"
  }
 },
 "nbformat": 4,
 "nbformat_minor": 5
}
