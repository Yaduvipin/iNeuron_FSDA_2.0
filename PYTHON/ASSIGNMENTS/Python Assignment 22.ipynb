{
 "cells": [
  {
   "cell_type": "markdown",
   "id": "02ecd74b",
   "metadata": {},
   "source": [
    "# Q1.\n",
    "1. What is the result of the code, and explain?\n"
   ]
  },
  {
   "cell_type": "code",
   "execution_count": 2,
   "id": "541401ad",
   "metadata": {},
   "outputs": [
    {
     "name": "stdout",
     "output_type": "stream",
     "text": [
      "iNeuron\n"
     ]
    }
   ],
   "source": [
    "#Answer:\n",
    "X = 'iNeuron'\n",
    "def func():\n",
    "        print(X)\n",
    "func();"
   ]
  },
  {
   "cell_type": "markdown",
   "id": "e7be99a8",
   "metadata": {},
   "source": [
    "This code defines a variable X with the string value 'iNeuron' and a function func() that prints the value of X.\n",
    "\n",
    "When func() is called on the last line with func(), it prints the value of X which is 'iNeuron'.\n",
    "\n",
    "So, the output of running this code will be:\n",
    "\n",
    "\n",
    "iNeuron"
   ]
  },
  {
   "cell_type": "markdown",
   "id": "82aa2819",
   "metadata": {},
   "source": [
    "# Q2.\n",
    "2. What is the result of the code, and explain?\n",
    "\n"
   ]
  },
  {
   "cell_type": "code",
   "execution_count": 4,
   "id": "f41e4460",
   "metadata": {},
   "outputs": [
    {
     "name": "stdout",
     "output_type": "stream",
     "text": [
      "iNeuron\n"
     ]
    }
   ],
   "source": [
    "#Answer:\n",
    "X = 'iNeuron'\n",
    "def func():\n",
    "    X = 'NI!'\n",
    "func()\n",
    "print(X)\n"
   ]
  },
  {
   "cell_type": "markdown",
   "id": "84cdacb5",
   "metadata": {},
   "source": [
    "The output of the code will be iNeuron.\n",
    "\n",
    "When the code is executed, the function func() is defined and called.\n",
    "Inside the function, the variable X is assigned the value NI!. However, \n",
    "this variable is a local variable that only exists within the scope of the function func().\n",
    "When the function func() finishes executing, the local variable X is destroyed.\n",
    "\n",
    "The print() statement outside the function func() prints the global variable X,\n",
    "which was defined before the function was called and remains unchanged by the function call.\n",
    "Therefore, the value of X remains iNeuron, which is printed to the console."
   ]
  },
  {
   "cell_type": "markdown",
   "id": "04ccbe1f",
   "metadata": {},
   "source": [
    "# Q3.\n",
    "\n",
    "3. What does this code print, and why?\n",
    "\n"
   ]
  },
  {
   "cell_type": "code",
   "execution_count": 5,
   "id": "42c767e5",
   "metadata": {},
   "outputs": [
    {
     "name": "stdout",
     "output_type": "stream",
     "text": [
      "NI\n",
      "iNeuron\n"
     ]
    }
   ],
   "source": [
    "#Answer:\n",
    "\n",
    "X = 'iNeuron'\n",
    "def func():\n",
    "    X = 'NI'\n",
    "    print(X)\n",
    "\n",
    "func()\n",
    "print(X)\n"
   ]
  },
  {
   "cell_type": "markdown",
   "id": "c0b6a964",
   "metadata": {},
   "source": [
    "When the function func() is called, it assigns the value 'NI' to the local variable X inside \n",
    "the function's scope, and then prints it. So the first print statement inside the function will output 'NI'.\n",
    "\n",
    "However, the second print statement outside the function is not affected by the local variable X \n",
    "inside the function's scope. Instead, it refers to the global variable X which was defined outside \n",
    "of the function and has the value 'iNeuron'. So the second print statement will output 'iNeuron'."
   ]
  },
  {
   "cell_type": "markdown",
   "id": "9a898a8f",
   "metadata": {},
   "source": [
    "# Q4.\n",
    "4. What output does this code produce? Why?\n",
    "\n"
   ]
  },
  {
   "cell_type": "code",
   "execution_count": 6,
   "id": "141272c4",
   "metadata": {},
   "outputs": [
    {
     "name": "stdout",
     "output_type": "stream",
     "text": [
      "NI\n"
     ]
    }
   ],
   "source": [
    "#Answer:\n",
    "X ='iNeuron'\n",
    "def func():\n",
    "    global X\n",
    "    X = 'NI'\n",
    "func()\n",
    "print(X)\n"
   ]
  },
  {
   "cell_type": "markdown",
   "id": "dfa1110e",
   "metadata": {},
   "source": [
    "In this updated code, the function func() uses the global keyword to declare \n",
    "that the variable X inside the function should refer to the global variable X \n",
    "defined outside of the function's scope.\n",
    "\n",
    "So when func() is called, it changes the value of the global variable X to 'NI'.\n",
    "\n",
    "Then when print(X) is called outside of the function, it refers to the updated value \n",
    "of the global variable X and prints 'NI'."
   ]
  },
  {
   "cell_type": "markdown",
   "id": "d7f8a25f",
   "metadata": {},
   "source": [
    "# Q5.\n",
    "5. What about this code—what’s the output, and why?\n"
   ]
  },
  {
   "cell_type": "code",
   "execution_count": 31,
   "id": "82b8453f",
   "metadata": {},
   "outputs": [
    {
     "name": "stdout",
     "output_type": "stream",
     "text": [
      "NI\n"
     ]
    },
    {
     "data": {
      "text/plain": [
       "'iNeuron'"
      ]
     },
     "execution_count": 31,
     "metadata": {},
     "output_type": "execute_result"
    }
   ],
   "source": [
    "#Answer:\n",
    "\n",
    "X = 'iNeuron'\n",
    "\n",
    "def func():\n",
    "    X = 'NI'\n",
    "    def nested():\n",
    "          print(X)\n",
    "            \n",
    "    nested()\n",
    "        \n",
    "        \n",
    "func()\n",
    "X\n",
    "\n"
   ]
  },
  {
   "cell_type": "markdown",
   "id": "51c1e8e8",
   "metadata": {},
   "source": [
    "First, a variable X is created and assigned the value 'iNeuron'.\n",
    "Then, a function named func is defined. Within the function, a new variable X is created and assigned the value 'NI'.\n",
    "Inside func, another function named nested is defined. When nested is executed, it will print the value of X, which is 'NI'.\n",
    "The func function is then called, which in turn calls nested. This prints the value 'NI'.\n",
    "Finally, after the func function has been executed, the value of X is printed, which is still 'iNeuron'.\n",
    "The reason why nested function prints 'NI' instead of 'iNeuron' is because it first looks for \n",
    "the value of X in its own scope. Since X is not defined in nested, it then looks up the scope chain to \n",
    "find the value of X, which is 'NI' in the func scope.\n",
    "\n",
    "\n",
    "\n",
    "\n"
   ]
  },
  {
   "cell_type": "markdown",
   "id": "55b73879",
   "metadata": {},
   "source": [
    "# Q6.\n",
    "6. How about this code: what is its output in Python 3, and explain?\n"
   ]
  },
  {
   "cell_type": "code",
   "execution_count": 38,
   "id": "52f485de",
   "metadata": {},
   "outputs": [
    {
     "name": "stdout",
     "output_type": "stream",
     "text": [
      "Spam\n"
     ]
    }
   ],
   "source": [
    "#Answer:\n",
    "\n",
    "def func():\n",
    "    X = 'NI'\n",
    "    def nested():\n",
    "        nonlocal X\n",
    "        X = 'Spam'\n",
    "    nested()\n",
    "    print(X)\n",
    "\n",
    "\n",
    "func()"
   ]
  },
  {
   "cell_type": "markdown",
   "id": "df365a67",
   "metadata": {},
   "source": [
    "The code defines a function called func that creates a nested function called nested.\n",
    "The nested function uses the nonlocal keyword to indicate that it wants to modify the \n",
    "value of the variable X defined in the outer function func.\n",
    "\n",
    "When the func function is called, it first sets the value of X to be the string 'NI'. \n",
    "It then calls the nested function, which changes the value of X to be the string 'Spam'.\n",
    "\n",
    "Finally, the func function prints the value of X, which is now 'Spam'. Therefore, \n",
    "the output of the code, when executed in Python 3, will be:\n",
    "\n",
    "Spam"
   ]
  },
  {
   "cell_type": "code",
   "execution_count": null,
   "id": "c7345cc5",
   "metadata": {},
   "outputs": [],
   "source": []
  },
  {
   "cell_type": "code",
   "execution_count": null,
   "id": "1ff8a022",
   "metadata": {},
   "outputs": [],
   "source": []
  },
  {
   "cell_type": "code",
   "execution_count": null,
   "id": "2c031cc2",
   "metadata": {},
   "outputs": [],
   "source": []
  }
 ],
 "metadata": {
  "kernelspec": {
   "display_name": "Python 3 (ipykernel)",
   "language": "python",
   "name": "python3"
  },
  "language_info": {
   "codemirror_mode": {
    "name": "ipython",
    "version": 3
   },
   "file_extension": ".py",
   "mimetype": "text/x-python",
   "name": "python",
   "nbconvert_exporter": "python",
   "pygments_lexer": "ipython3",
   "version": "3.9.13"
  }
 },
 "nbformat": 4,
 "nbformat_minor": 5
}
