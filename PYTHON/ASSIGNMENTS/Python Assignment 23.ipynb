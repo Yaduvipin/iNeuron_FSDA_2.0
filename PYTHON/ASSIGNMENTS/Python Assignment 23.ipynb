{
 "cells": [
  {
   "cell_type": "markdown",
   "id": "4305ebd5",
   "metadata": {},
   "source": [
    "# Q1\n",
    "1. What is the result of the code, and why?\n"
   ]
  },
  {
   "cell_type": "code",
   "execution_count": 2,
   "id": "433da45f",
   "metadata": {},
   "outputs": [
    {
     "name": "stdout",
     "output_type": "stream",
     "text": [
      "1 2 8\n"
     ]
    }
   ],
   "source": [
    "def func(a, b=6, c=8):\n",
    "       print(a, b, c)\n",
    "func(1, 2)"
   ]
  },
  {
   "cell_type": "code",
   "execution_count": null,
   "id": "303c872c",
   "metadata": {},
   "outputs": [],
   "source": [
    "#Answer:\n",
    "The output of the code will be: 1 2 8\n",
    "\n",
    "The function func takes three parameters, a, b, and c, with default values of 6 and 8 for b and c, respectively.\n",
    "When the function is called with func(1, 2), a is assigned the value 1, b is assigned the value 2, and c retains\n",
    "its default value of 8. Therefore, when the print statement is executed, the output will be 1 2 8."
   ]
  },
  {
   "cell_type": "markdown",
   "id": "966d3ce9",
   "metadata": {},
   "source": [
    "# Q2.\n",
    "2. What is the result of this code, and why?\n"
   ]
  },
  {
   "cell_type": "code",
   "execution_count": 4,
   "id": "bb49653e",
   "metadata": {
    "scrolled": true
   },
   "outputs": [
    {
     "name": "stdout",
     "output_type": "stream",
     "text": [
      "1 2 3\n"
     ]
    }
   ],
   "source": [
    "#Answer:\n",
    "def func(a, b, c=5):\n",
    "    print(a, b, c)\n",
    "func(1, c=3, b=2)"
   ]
  },
  {
   "cell_type": "markdown",
   "id": "d49bc9f3",
   "metadata": {},
   "source": [
    "\n",
    "The function func takes three parameters, a, b, and c, with a default value of 5 for c. \n",
    "When the function is called with func(1, c=3, b=2), a is assigned the value 1, b is assigned\n",
    "the value 2, and c is assigned the value 3, overriding its default value. Therefore, when the print \n",
    "statement is executed, the output will be 1 2 3. Note that the order in which the arguments are\n",
    "passed is not important when they are explicitly named."
   ]
  },
  {
   "cell_type": "markdown",
   "id": "3a22872a",
   "metadata": {},
   "source": [
    "# Q3\n",
    "\n",
    "3. How about this code: what is its result, and why?\n"
   ]
  },
  {
   "cell_type": "code",
   "execution_count": 6,
   "id": "ebbc27b2",
   "metadata": {
    "scrolled": true
   },
   "outputs": [
    {
     "name": "stdout",
     "output_type": "stream",
     "text": [
      "1 (2, 3)\n"
     ]
    }
   ],
   "source": [
    "#Answer:\n",
    "def func(a, *pargs):\n",
    "    print(a, pargs)\n",
    "func(1, 2, 3)"
   ]
  },
  {
   "cell_type": "markdown",
   "id": "f3dc7d94",
   "metadata": {},
   "source": [
    "The function func takes one required parameter, a, and an arbitrary number of positional arguments, \n",
    "*pargs, which are packed into a tuple. When the function is called with func(1, 2, 3), a is assigned \n",
    "the value 1, and the remaining arguments, 2 and 3, are packed into the pargs tuple. Therefore,\n",
    "when the print statement is executed, the output will be 1 (2, 3), where pargs is a tuple containing\n",
    "the remaining positional arguments."
   ]
  },
  {
   "cell_type": "markdown",
   "id": "310238a5",
   "metadata": {},
   "source": [
    "# Q4.\n",
    "\n",
    "4. What does this code print, and why?\n"
   ]
  },
  {
   "cell_type": "code",
   "execution_count": 7,
   "id": "a435d42e",
   "metadata": {},
   "outputs": [
    {
     "name": "stdout",
     "output_type": "stream",
     "text": [
      "1 {'c': 3, 'b': 2}\n"
     ]
    }
   ],
   "source": [
    "def func(a, **kargs):\n",
    "    print(a, kargs)\n",
    "func(a=1, c=3, b=2)"
   ]
  },
  {
   "cell_type": "markdown",
   "id": "f27fc22b",
   "metadata": {},
   "source": [
    "The function func takes one required parameter, a, and an arbitrary number of keyword arguments, \n",
    "**kargs, which are packed into a dictionary. When the function is called with func(a=1, c=3, b=2),\n",
    "a is assigned the value 1, and the remaining keyword arguments, c=3 and b=2, are packed into the kargs dictionary.\n",
    "Therefore, when the print statement is executed, the output will be 1 {'c': 3, 'b': 2}, where kargs is a dictionary\n",
    "containing the remaining keyword arguments."
   ]
  },
  {
   "cell_type": "markdown",
   "id": "0b80859a",
   "metadata": {},
   "source": [
    "# Q5.\n",
    "5. What gets printed by this, and explain?\n"
   ]
  },
  {
   "cell_type": "code",
   "execution_count": 9,
   "id": "c1e4c874",
   "metadata": {},
   "outputs": [
    {
     "name": "stdout",
     "output_type": "stream",
     "text": [
      "1 5 6 5\n"
     ]
    }
   ],
   "source": [
    "#Answer:\n",
    "def func(a, b, c=8, d=5):\n",
    "    print(a, b, c, d)\n",
    "func(1, *(5, 6))"
   ]
  },
  {
   "cell_type": "markdown",
   "id": "0d70ec80",
   "metadata": {},
   "source": [
    "\n",
    "The function func takes four parameters, a, b, c, and d, with default values of 8 and 5 for c and d, respectively. \n",
    "When the function is called with func(1, *(5, 6)), a is assigned the value 1, b is assigned the first value in the tuple, \n",
    "which is 5, and the remaining values in the tuple, which are 6, are assigned to c and d in order. Therefore,\n",
    "when the print statement is executed, the output will be 1 5 6 5, where b is 5, c is 6, and d retains its \n",
    "default value of 5.\n",
    "\n",
    "The use of the * operator before the pargs tuple is called \"tuple unpacking\". It allows the values in the tuple \n",
    "to be passed as separate positional arguments to the function. In this case, the values in the tuple are (5, 6),\n",
    "which are unpacked and passed as the second and third positional arguments, respectively."
   ]
  },
  {
   "cell_type": "markdown",
   "id": "d98f5e8e",
   "metadata": {},
   "source": [
    "# Q6.\n",
    "6. what is the result of this, and explain?\n"
   ]
  },
  {
   "cell_type": "code",
   "execution_count": 12,
   "id": "23d68af3",
   "metadata": {},
   "outputs": [
    {
     "data": {
      "text/plain": [
       "(1, ['x'], {'a': 'y'})"
      ]
     },
     "execution_count": 12,
     "metadata": {},
     "output_type": "execute_result"
    }
   ],
   "source": [
    "def func(a, b, c): a = 2; b[0] = 'x'; c['a'] ='y'\n",
    "l=1; m=[1]; n={'a':0}\n",
    "func(l, m, n)\n",
    "\n",
    "l, m, n"
   ]
  },
  {
   "cell_type": "markdown",
   "id": "22a80404",
   "metadata": {},
   "source": [
    "The function func takes three parameters, a, b, and c. In the body of the function,\n",
    "a is assigned the value 2, b[0] is assigned the value 'x', and c['a'] is assigned the value 'y'.\n",
    "\n",
    "When the function is called with func(l, m, n), the variables l, m, and n are passed as arguments to the function.\n",
    "Since l is an immutable object (an integer), it is passed by value, and the assignment a = 2 within the function\n",
    "has no effect on its value outside the function. However, m and n are mutable objects (a list and a dictionary,respectively),\n",
    "so they are passed by reference, and any changes made to them within the function affect their values outside the function.\n",
    "Therefore, after the function is called, l retains its original value of 1, m is modified to ['x'],\n",
    "and n is modified to {'a': 'y'}.\n",
    "\n",
    "Finally, when the print statement is executed after the function call, the output will be 1 ['x'] {'a': 'y'}, \n",
    "which shows the modified values of l, m, and n."
   ]
  },
  {
   "cell_type": "code",
   "execution_count": null,
   "id": "71d4ae15",
   "metadata": {},
   "outputs": [],
   "source": []
  },
  {
   "cell_type": "code",
   "execution_count": null,
   "id": "411b9454",
   "metadata": {},
   "outputs": [],
   "source": []
  },
  {
   "cell_type": "code",
   "execution_count": null,
   "id": "9a7a297e",
   "metadata": {},
   "outputs": [],
   "source": []
  },
  {
   "cell_type": "code",
   "execution_count": null,
   "id": "c243f8fe",
   "metadata": {},
   "outputs": [],
   "source": []
  }
 ],
 "metadata": {
  "kernelspec": {
   "display_name": "Python 3 (ipykernel)",
   "language": "python",
   "name": "python3"
  },
  "language_info": {
   "codemirror_mode": {
    "name": "ipython",
    "version": 3
   },
   "file_extension": ".py",
   "mimetype": "text/x-python",
   "name": "python",
   "nbconvert_exporter": "python",
   "pygments_lexer": "ipython3",
   "version": "3.9.13"
  }
 },
 "nbformat": 4,
 "nbformat_minor": 5
}
